{
 "cells": [
  {
   "cell_type": "code",
   "execution_count": 46,
   "metadata": {
    "scrolled": true
   },
   "outputs": [
    {
     "ename": "ModuleNotFoundError",
     "evalue": "No module named 'plotly'",
     "output_type": "error",
     "traceback": [
      "\u001b[1;31m---------------------------------------------------------------------------\u001b[0m",
      "\u001b[1;31mModuleNotFoundError\u001b[0m                       Traceback (most recent call last)",
      "\u001b[1;32m<ipython-input-46-69978aef4a74>\u001b[0m in \u001b[0;36m<module>\u001b[1;34m\u001b[0m\n\u001b[0;32m     16\u001b[0m \u001b[0msns\u001b[0m\u001b[1;33m.\u001b[0m\u001b[0mset\u001b[0m\u001b[1;33m(\u001b[0m\u001b[0mrc\u001b[0m\u001b[1;33m=\u001b[0m\u001b[1;33m{\u001b[0m\u001b[1;34m'figure.figsize'\u001b[0m\u001b[1;33m:\u001b[0m\u001b[1;33m(\u001b[0m\u001b[1;36m20\u001b[0m\u001b[1;33m,\u001b[0m\u001b[1;36m20\u001b[0m\u001b[1;33m)\u001b[0m\u001b[1;33m}\u001b[0m\u001b[1;33m)\u001b[0m\u001b[1;33m\u001b[0m\u001b[1;33m\u001b[0m\u001b[0m\n\u001b[0;32m     17\u001b[0m \u001b[1;33m\u001b[0m\u001b[0m\n\u001b[1;32m---> 18\u001b[1;33m \u001b[1;32mimport\u001b[0m \u001b[0mplotly\u001b[0m\u001b[1;33m.\u001b[0m\u001b[0moffline\u001b[0m \u001b[1;32mas\u001b[0m \u001b[0mpy\u001b[0m\u001b[1;33m\u001b[0m\u001b[1;33m\u001b[0m\u001b[0m\n\u001b[0m\u001b[0;32m     19\u001b[0m \u001b[0mpy\u001b[0m\u001b[1;33m.\u001b[0m\u001b[0minit_notebook_mode\u001b[0m\u001b[1;33m(\u001b[0m\u001b[0mconnected\u001b[0m\u001b[1;33m=\u001b[0m\u001b[1;32mTrue\u001b[0m\u001b[1;33m)\u001b[0m\u001b[1;33m\u001b[0m\u001b[1;33m\u001b[0m\u001b[0m\n\u001b[0;32m     20\u001b[0m \u001b[1;32mimport\u001b[0m \u001b[0mplotly\u001b[0m\u001b[1;33m.\u001b[0m\u001b[0mgraph_objs\u001b[0m \u001b[1;32mas\u001b[0m \u001b[0mgo\u001b[0m\u001b[1;33m\u001b[0m\u001b[1;33m\u001b[0m\u001b[0m\n",
      "\u001b[1;31mModuleNotFoundError\u001b[0m: No module named 'plotly'"
     ]
    }
   ],
   "source": [
    "# Importing necessary modules and codes for the project\n",
    "import numpy as np \n",
    "import pandas as pd\n",
    "import matplotlib.pyplot as plt\n",
    "import seaborn as sns\n",
    "#import plotly.express as px\n",
    "from pandas import DataFrame\n",
    "\n",
    "# machine learning package\n",
    "from sklearn import metrics\n",
    "from sklearn import preprocessing\n",
    "from sklearn.ensemble import RandomForestRegressor\n",
    "from sklearn.model_selection import train_test_split\n",
    "\n",
    "#import ggplot\n",
    "sns.set(rc={'figure.figsize':(20,20)})\n",
    "\n",
    "import plotly.offline as py\n",
    "py.init_notebook_mode(connected=True)\n",
    "import plotly.graph_objs as go\n",
    "\n",
    "import plotly\n",
    "# connected=True means it will download the latest version of plotly javascript library.\n",
    "plotly.offline.init_notebook_mode(connected=True)\n",
    "import plotly.graph_objs as go\n",
    "\n",
    "import warnings\n",
    "warnings.filterwarnings('ignore')\n",
    "from pylab import rcParams\n",
    "# figure size in inches\n",
    "!pip install -U wordcloud\n",
    "import scipy.stats as ss\n",
    "from wordcloud import WordCloud\n",
    "\n",
    "\n",
    "%matplotlib inline"
   ]
  },
  {
   "cell_type": "markdown",
   "metadata": {},
   "source": [
    "&nbsp;\n",
    "\n",
    "&nbsp;\n",
    "\n",
    "&nbsp;\n",
    "\n",
    "&nbsp;\n",
    "\n",
    "&nbsp;\n",
    "\n",
    "&nbsp;\n",
    "\n",
    "# What factors makes a successful app?\n",
    "\n",
    "&nbsp;\n",
    "\n",
    "&nbsp;\n",
    "\n",
    "&nbsp;\n",
    "\n",
    "&nbsp; \n",
    "\n",
    "&nbsp; \n",
    "\n",
    "&nbsp; \n",
    "\n",
    "&nbsp; \n",
    "\n",
    "![alt text](files/google.png)\n",
    "    \n",
    "&nbsp;\n",
    "\n",
    "&nbsp; \n",
    "\n",
    "Word count: 1686 words\n",
    "  \n",
    "&nbsp;\n",
    "\n",
    "&nbsp;\n",
    "\n",
    "&nbsp;\n",
    "\n",
    "&nbsp;\n",
    "\n",
    "&nbsp;\n",
    "\n",
    "&nbsp; \n",
    "\n",
    "&nbsp;\n",
    "\n",
    "&nbsp;\n",
    "\n",
    "&nbsp; \n"
   ]
  },
  {
   "cell_type": "markdown",
   "metadata": {},
   "source": [
    "&nbsp;\n",
    "\n",
    "**Table Contents**\n",
    "\n",
    "&nbsp; \n",
    "\n",
    "**1. Introduction**\n",
    "&nbsp;\n",
    "&nbsp;\n",
    "\n",
    "**2. Datasets**\n",
    "\n",
    "&nbsp; \n",
    "&nbsp; \n",
    "&nbsp;\n",
    "&nbsp; \n",
    "***2.1 Dataset 1 Cleaning***\n",
    "\n",
    "&nbsp; \n",
    "&nbsp; \n",
    "&nbsp;\n",
    "&nbsp;\n",
    "***2.2 Dataset 2 Cleaning***\n",
    "\n",
    "&nbsp;\n",
    "&nbsp; \n",
    "&nbsp;\n",
    "&nbsp;\n",
    "***2.3 Merging Dataset***\n",
    "\n",
    "**3. Exploratory Analysis**\n",
    "\n",
    "&nbsp; \n",
    "&nbsp; \n",
    "&nbsp;\n",
    "&nbsp;\n",
    "***3.1 Variable Correlation***\n",
    "\n",
    "&nbsp; \n",
    "&nbsp;\n",
    "&nbsp; \n",
    "&nbsp;\n",
    "***3.2 Variable Distribution***\n",
    "\n",
    "&nbsp; \n",
    "&nbsp;\n",
    "&nbsp; \n",
    "&nbsp;\n",
    "***3.3 Rating Comparing Analysis***\n",
    "&nbsp; \n",
    "\n",
    "**4. Predictive Analysis**\n",
    "\n",
    "&nbsp; \n",
    "&nbsp;\n",
    "&nbsp; \n",
    "&nbsp;\n",
    "***4.1 Random Forest***\n",
    "\n",
    "&nbsp;\n",
    "&nbsp;\n",
    "&nbsp; \n",
    "&nbsp;\n",
    "***4.2 Linear Regression***\n",
    "&nbsp; \n",
    "\n",
    "**5. App Pricing Analysis**\n",
    "\n",
    "&nbsp; \n",
    "&nbsp;\n",
    "&nbsp; \n",
    "&nbsp;\n",
    "***5.1 Most Frequent Word in Apps***\n",
    "\n",
    "&nbsp;\n",
    "&nbsp;\n",
    "&nbsp; \n",
    "&nbsp;\n",
    "***5.2 Comparing Free and Paid Apps***\n",
    "\n",
    "&nbsp;\n",
    "&nbsp;\n",
    "&nbsp; \n",
    "&nbsp;\n",
    "***5.3 Price Variation***\n",
    "&nbsp;\n",
    "\n",
    "**6. Conclusion**\n",
    "&nbsp; \n",
    "\n",
    "**7. Limitation**\n",
    "&nbsp;\n",
    "\n",
    "**8. Reference**\n",
    "&nbsp;\n",
    "\n",
    "&nbsp;\n",
    "\n",
    "&nbsp;\n",
    "\n",
    "&nbsp;\n",
    "\n",
    "&nbsp;\n",
    "\n",
    "&nbsp;\n",
    "\n",
    "&nbsp;\n",
    "\n",
    "&nbsp;\n",
    "\n",
    "&nbsp;\n",
    "\n",
    "&nbsp;\n",
    "\n",
    "&nbsp;\n",
    "\n",
    "&nbsp;\n"
   ]
  },
  {
   "cell_type": "markdown",
   "metadata": {},
   "source": [
    "# 1. Introduction "
   ]
  },
  {
   "cell_type": "markdown",
   "metadata": {},
   "source": [
    "In recent years, we have seen the time people spend on their mobile devices continually rise. For app developers, this is a great opportunity to create a standout product that can capture the attention of the 3.5 bn smartphone users. However, with so many different applications that have been developed in the 13 years since the first smartphones, the marketplace is extremely competitive (Turner, 2020).\n",
    "\n",
    "For a new application to be a success, it needs positive App ratings. The effect of app rating is highlighted by research from Apptentive that found that moving from 2 to 3 stars could increase conversion by 306% (Apptentive, 2019). Furthermore, both the App Store and Play Store place a greater level of importance on ratings when deciding how to rank apps in search. \n",
    "\n",
    "Through our analysis, we will look to answer the question **' What factors do App creators need to consider when developing a successful app?'**. We first assess which factors creators must consider when developing the app. Then we consider pricing an app as it goes to market. These insights can help developers to build apps that will rank higher and capture more of the Android market!"
   ]
  },
  {
   "cell_type": "markdown",
   "metadata": {},
   "source": [
    "# 2. Datasets "
   ]
  },
  {
   "cell_type": "markdown",
   "metadata": {},
   "source": [
    "We use two sources of data from the Google Playstore:\n",
    "\n",
    "**Dataset 1**: List of applications with corresponding general information including ratings, reviews, prices, and genres\n",
    "&nbsp;\n",
    "\n",
    "**Dataset 2**: List of reveiws for applications with corresponding scoring based quality of reveiw and a sentiment analysis.\n",
    "\n",
    " \n",
    "The data set can be found on Kaggle:\n",
    "https://www.kaggle.com/neomatrix369/google-play-store-apps-extended"
   ]
  },
  {
   "cell_type": "markdown",
   "metadata": {},
   "source": [
    "Cleaning steps:\n",
    "<ol>\n",
    " <li>Find and remove null values</li>\n",
    " <li>Find and remove duplicates</li>\n",
    " <li>Drop columns that are highly correlated or unneeded for analysis</li>\n",
    "</ol>"
   ]
  },
  {
   "cell_type": "markdown",
   "metadata": {},
   "source": [
    "## 2.1 Dataset 1 Cleaning"
   ]
  },
  {
   "cell_type": "code",
   "execution_count": 6,
   "metadata": {
    "scrolled": true
   },
   "outputs": [
    {
     "data": {
      "text/html": [
       "<div>\n",
       "<style scoped>\n",
       "    .dataframe tbody tr th:only-of-type {\n",
       "        vertical-align: middle;\n",
       "    }\n",
       "\n",
       "    .dataframe tbody tr th {\n",
       "        vertical-align: top;\n",
       "    }\n",
       "\n",
       "    .dataframe thead th {\n",
       "        text-align: right;\n",
       "    }\n",
       "</style>\n",
       "<table border=\"1\" class=\"dataframe\">\n",
       "  <thead>\n",
       "    <tr style=\"text-align: right;\">\n",
       "      <th></th>\n",
       "      <th>App</th>\n",
       "      <th>Category</th>\n",
       "      <th>Rating</th>\n",
       "      <th>Reviews</th>\n",
       "      <th>Size</th>\n",
       "      <th>Installs</th>\n",
       "      <th>Type</th>\n",
       "      <th>Price</th>\n",
       "      <th>Content Rating</th>\n",
       "      <th>Genres</th>\n",
       "      <th>...</th>\n",
       "      <th>Last Updated (Year)</th>\n",
       "      <th>Last Updated (Year/Month)</th>\n",
       "      <th>Category (categorical)</th>\n",
       "      <th>Type (categorical)</th>\n",
       "      <th>Genres (categorical)</th>\n",
       "      <th>Current Ver (categorical)</th>\n",
       "      <th>Android Ver (categorical)</th>\n",
       "      <th>Last Updated (Year/Month) (categorical)</th>\n",
       "      <th>No_reviews_count</th>\n",
       "      <th>Reviews_present_count</th>\n",
       "    </tr>\n",
       "  </thead>\n",
       "  <tbody>\n",
       "    <tr>\n",
       "      <th>0</th>\n",
       "      <td>Photo Editor &amp; Candy Camera &amp; Grid &amp; ScrapBook</td>\n",
       "      <td>0.0</td>\n",
       "      <td>4.1</td>\n",
       "      <td>159</td>\n",
       "      <td>19.0</td>\n",
       "      <td>10000.0</td>\n",
       "      <td>0.0</td>\n",
       "      <td>0.0</td>\n",
       "      <td>Everyone</td>\n",
       "      <td>9.0</td>\n",
       "      <td>...</td>\n",
       "      <td>2018</td>\n",
       "      <td>80.0</td>\n",
       "      <td>ART_AND_DESIGN</td>\n",
       "      <td>Free</td>\n",
       "      <td>Art &amp; Design</td>\n",
       "      <td>1.0.0</td>\n",
       "      <td>4.0.3 and up</td>\n",
       "      <td>2018-01</td>\n",
       "      <td>0</td>\n",
       "      <td>0</td>\n",
       "    </tr>\n",
       "    <tr>\n",
       "      <th>1</th>\n",
       "      <td>Coloring book moana</td>\n",
       "      <td>0.0</td>\n",
       "      <td>3.9</td>\n",
       "      <td>967</td>\n",
       "      <td>14.0</td>\n",
       "      <td>500000.0</td>\n",
       "      <td>0.0</td>\n",
       "      <td>0.0</td>\n",
       "      <td>Everyone</td>\n",
       "      <td>12.0</td>\n",
       "      <td>...</td>\n",
       "      <td>2018</td>\n",
       "      <td>80.0</td>\n",
       "      <td>ART_AND_DESIGN</td>\n",
       "      <td>Free</td>\n",
       "      <td>Art &amp; Design;Pretend Play</td>\n",
       "      <td>2.0.0</td>\n",
       "      <td>4.0.3 and up</td>\n",
       "      <td>2018-01</td>\n",
       "      <td>14</td>\n",
       "      <td>44</td>\n",
       "    </tr>\n",
       "    <tr>\n",
       "      <th>2</th>\n",
       "      <td>U Launcher Lite – FREE Live Cool Themes, Hide ...</td>\n",
       "      <td>0.0</td>\n",
       "      <td>4.7</td>\n",
       "      <td>87510</td>\n",
       "      <td>8.7</td>\n",
       "      <td>5000000.0</td>\n",
       "      <td>0.0</td>\n",
       "      <td>0.0</td>\n",
       "      <td>Everyone</td>\n",
       "      <td>9.0</td>\n",
       "      <td>...</td>\n",
       "      <td>2018</td>\n",
       "      <td>87.0</td>\n",
       "      <td>ART_AND_DESIGN</td>\n",
       "      <td>Free</td>\n",
       "      <td>Art &amp; Design</td>\n",
       "      <td>1.2.4</td>\n",
       "      <td>4.0.3 and up</td>\n",
       "      <td>2018-08</td>\n",
       "      <td>0</td>\n",
       "      <td>0</td>\n",
       "    </tr>\n",
       "    <tr>\n",
       "      <th>3</th>\n",
       "      <td>Sketch - Draw &amp; Paint</td>\n",
       "      <td>0.0</td>\n",
       "      <td>4.5</td>\n",
       "      <td>215644</td>\n",
       "      <td>25.0</td>\n",
       "      <td>50000000.0</td>\n",
       "      <td>0.0</td>\n",
       "      <td>0.0</td>\n",
       "      <td>Teen</td>\n",
       "      <td>9.0</td>\n",
       "      <td>...</td>\n",
       "      <td>2018</td>\n",
       "      <td>85.0</td>\n",
       "      <td>ART_AND_DESIGN</td>\n",
       "      <td>Free</td>\n",
       "      <td>Art &amp; Design</td>\n",
       "      <td>Varies with device</td>\n",
       "      <td>4.2 and up</td>\n",
       "      <td>2018-06</td>\n",
       "      <td>0</td>\n",
       "      <td>0</td>\n",
       "    </tr>\n",
       "    <tr>\n",
       "      <th>4</th>\n",
       "      <td>Pixel Draw - Number Art Coloring Book</td>\n",
       "      <td>0.0</td>\n",
       "      <td>4.3</td>\n",
       "      <td>967</td>\n",
       "      <td>2.8</td>\n",
       "      <td>100000.0</td>\n",
       "      <td>0.0</td>\n",
       "      <td>0.0</td>\n",
       "      <td>Everyone</td>\n",
       "      <td>11.0</td>\n",
       "      <td>...</td>\n",
       "      <td>2018</td>\n",
       "      <td>85.0</td>\n",
       "      <td>ART_AND_DESIGN</td>\n",
       "      <td>Free</td>\n",
       "      <td>Art &amp; Design;Creativity</td>\n",
       "      <td>1.1</td>\n",
       "      <td>4.4 and up</td>\n",
       "      <td>2018-06</td>\n",
       "      <td>0</td>\n",
       "      <td>0</td>\n",
       "    </tr>\n",
       "  </tbody>\n",
       "</table>\n",
       "<p>5 rows × 23 columns</p>\n",
       "</div>"
      ],
      "text/plain": [
       "                                                 App  Category  Rating  \\\n",
       "0     Photo Editor & Candy Camera & Grid & ScrapBook       0.0     4.1   \n",
       "1                                Coloring book moana       0.0     3.9   \n",
       "2  U Launcher Lite – FREE Live Cool Themes, Hide ...       0.0     4.7   \n",
       "3                              Sketch - Draw & Paint       0.0     4.5   \n",
       "4              Pixel Draw - Number Art Coloring Book       0.0     4.3   \n",
       "\n",
       "   Reviews  Size    Installs  Type  Price Content Rating  Genres  ...  \\\n",
       "0      159  19.0     10000.0   0.0    0.0       Everyone     9.0  ...   \n",
       "1      967  14.0    500000.0   0.0    0.0       Everyone    12.0  ...   \n",
       "2    87510   8.7   5000000.0   0.0    0.0       Everyone     9.0  ...   \n",
       "3   215644  25.0  50000000.0   0.0    0.0           Teen     9.0  ...   \n",
       "4      967   2.8    100000.0   0.0    0.0       Everyone    11.0  ...   \n",
       "\n",
       "  Last Updated (Year)  Last Updated (Year/Month)  Category (categorical)  \\\n",
       "0                2018                       80.0          ART_AND_DESIGN   \n",
       "1                2018                       80.0          ART_AND_DESIGN   \n",
       "2                2018                       87.0          ART_AND_DESIGN   \n",
       "3                2018                       85.0          ART_AND_DESIGN   \n",
       "4                2018                       85.0          ART_AND_DESIGN   \n",
       "\n",
       "   Type (categorical)       Genres (categorical) Current Ver (categorical)  \\\n",
       "0                Free               Art & Design                     1.0.0   \n",
       "1                Free  Art & Design;Pretend Play                     2.0.0   \n",
       "2                Free               Art & Design                     1.2.4   \n",
       "3                Free               Art & Design        Varies with device   \n",
       "4                Free    Art & Design;Creativity                       1.1   \n",
       "\n",
       "  Android Ver (categorical) Last Updated (Year/Month) (categorical)  \\\n",
       "0              4.0.3 and up                                 2018-01   \n",
       "1              4.0.3 and up                                 2018-01   \n",
       "2              4.0.3 and up                                 2018-08   \n",
       "3                4.2 and up                                 2018-06   \n",
       "4                4.4 and up                                 2018-06   \n",
       "\n",
       "  No_reviews_count Reviews_present_count  \n",
       "0                0                     0  \n",
       "1               14                    44  \n",
       "2                0                     0  \n",
       "3                0                     0  \n",
       "4                0                     0  \n",
       "\n",
       "[5 rows x 23 columns]"
      ]
     },
     "execution_count": 6,
     "metadata": {},
     "output_type": "execute_result"
    }
   ],
   "source": [
    "#Display dataset 1\n",
    "df1 = pd.read_csv('extended_googleplaystore.csv')\n",
    "\"imported Google play store dataset with {0} rows and {1} columns\".format(len(df1),len(df1.columns))\n",
    "df1.head() "
   ]
  },
  {
   "cell_type": "code",
   "execution_count": 7,
   "metadata": {
    "scrolled": true
   },
   "outputs": [
    {
     "data": {
      "text/plain": [
       "Rating                                     1463\n",
       "Size                                       1227\n",
       "Current Ver (categorical)                     8\n",
       "Android Ver (categorical)                     2\n",
       "Type (categorical)                            1\n",
       "Reviews_present_count                         0\n",
       "Genres                                        0\n",
       "Category                                      0\n",
       "Reviews                                       0\n",
       "Installs                                      0\n",
       "Type                                          0\n",
       "Price                                         0\n",
       "Content Rating                                0\n",
       "Current Ver                                   0\n",
       "Last Updated                                  0\n",
       "No_reviews_count                              0\n",
       "Android Ver                                   0\n",
       "Last Updated (Year)                           0\n",
       "Last Updated (Year/Month)                     0\n",
       "Category (categorical)                        0\n",
       "Genres (categorical)                          0\n",
       "Last Updated (Year/Month) (categorical)       0\n",
       "App                                           0\n",
       "dtype: int64"
      ]
     },
     "execution_count": 7,
     "metadata": {},
     "output_type": "execute_result"
    }
   ],
   "source": [
    "# Checking the number of null values\n",
    "total_n = df1.isnull().sum().sort_values(ascending=False)\n",
    "total_n"
   ]
  },
  {
   "cell_type": "code",
   "execution_count": 8,
   "metadata": {},
   "outputs": [],
   "source": [
    "# Dropping the null values\n",
    "df1.dropna(inplace= True)"
   ]
  },
  {
   "cell_type": "markdown",
   "metadata": {},
   "source": [
    "We will drop the numeric version of **\"Category\"**, **\"Type\" and \"Genres\"**, and the categorical version of **\"Last Updated\"**. **\"No_reviews_count\"** and **\"Reviews_present_count\"** are dervided from the other variables and are meaningless to be analysed once we already include the original variables. Finally, we are not interested in app version, so **\"Current Ver\"** and **\"Android Ver\"** are also removed."
   ]
  },
  {
   "cell_type": "code",
   "execution_count": 9,
   "metadata": {},
   "outputs": [
    {
     "data": {
      "text/html": [
       "<div>\n",
       "<style scoped>\n",
       "    .dataframe tbody tr th:only-of-type {\n",
       "        vertical-align: middle;\n",
       "    }\n",
       "\n",
       "    .dataframe tbody tr th {\n",
       "        vertical-align: top;\n",
       "    }\n",
       "\n",
       "    .dataframe thead th {\n",
       "        text-align: right;\n",
       "    }\n",
       "</style>\n",
       "<table border=\"1\" class=\"dataframe\">\n",
       "  <thead>\n",
       "    <tr style=\"text-align: right;\">\n",
       "      <th></th>\n",
       "      <th>App</th>\n",
       "      <th>Rating</th>\n",
       "      <th>Reviews</th>\n",
       "      <th>Size</th>\n",
       "      <th>Installs</th>\n",
       "      <th>Price</th>\n",
       "      <th>Content Rating</th>\n",
       "      <th>Last Updated (Year/Month)</th>\n",
       "      <th>Category (categorical)</th>\n",
       "      <th>Type (categorical)</th>\n",
       "      <th>Genres (categorical)</th>\n",
       "    </tr>\n",
       "  </thead>\n",
       "  <tbody>\n",
       "    <tr>\n",
       "      <th>0</th>\n",
       "      <td>Photo Editor &amp; Candy Camera &amp; Grid &amp; ScrapBook</td>\n",
       "      <td>4.1</td>\n",
       "      <td>159</td>\n",
       "      <td>19.0</td>\n",
       "      <td>10000.0</td>\n",
       "      <td>0.0</td>\n",
       "      <td>Everyone</td>\n",
       "      <td>80.0</td>\n",
       "      <td>ART_AND_DESIGN</td>\n",
       "      <td>Free</td>\n",
       "      <td>Art &amp; Design</td>\n",
       "    </tr>\n",
       "    <tr>\n",
       "      <th>1</th>\n",
       "      <td>Coloring book moana</td>\n",
       "      <td>3.9</td>\n",
       "      <td>967</td>\n",
       "      <td>14.0</td>\n",
       "      <td>500000.0</td>\n",
       "      <td>0.0</td>\n",
       "      <td>Everyone</td>\n",
       "      <td>80.0</td>\n",
       "      <td>ART_AND_DESIGN</td>\n",
       "      <td>Free</td>\n",
       "      <td>Art &amp; Design;Pretend Play</td>\n",
       "    </tr>\n",
       "    <tr>\n",
       "      <th>2</th>\n",
       "      <td>U Launcher Lite – FREE Live Cool Themes, Hide ...</td>\n",
       "      <td>4.7</td>\n",
       "      <td>87510</td>\n",
       "      <td>8.7</td>\n",
       "      <td>5000000.0</td>\n",
       "      <td>0.0</td>\n",
       "      <td>Everyone</td>\n",
       "      <td>87.0</td>\n",
       "      <td>ART_AND_DESIGN</td>\n",
       "      <td>Free</td>\n",
       "      <td>Art &amp; Design</td>\n",
       "    </tr>\n",
       "    <tr>\n",
       "      <th>3</th>\n",
       "      <td>Sketch - Draw &amp; Paint</td>\n",
       "      <td>4.5</td>\n",
       "      <td>215644</td>\n",
       "      <td>25.0</td>\n",
       "      <td>50000000.0</td>\n",
       "      <td>0.0</td>\n",
       "      <td>Teen</td>\n",
       "      <td>85.0</td>\n",
       "      <td>ART_AND_DESIGN</td>\n",
       "      <td>Free</td>\n",
       "      <td>Art &amp; Design</td>\n",
       "    </tr>\n",
       "    <tr>\n",
       "      <th>4</th>\n",
       "      <td>Pixel Draw - Number Art Coloring Book</td>\n",
       "      <td>4.3</td>\n",
       "      <td>967</td>\n",
       "      <td>2.8</td>\n",
       "      <td>100000.0</td>\n",
       "      <td>0.0</td>\n",
       "      <td>Everyone</td>\n",
       "      <td>85.0</td>\n",
       "      <td>ART_AND_DESIGN</td>\n",
       "      <td>Free</td>\n",
       "      <td>Art &amp; Design;Creativity</td>\n",
       "    </tr>\n",
       "  </tbody>\n",
       "</table>\n",
       "</div>"
      ],
      "text/plain": [
       "                                                 App  Rating  Reviews  Size  \\\n",
       "0     Photo Editor & Candy Camera & Grid & ScrapBook     4.1      159  19.0   \n",
       "1                                Coloring book moana     3.9      967  14.0   \n",
       "2  U Launcher Lite – FREE Live Cool Themes, Hide ...     4.7    87510   8.7   \n",
       "3                              Sketch - Draw & Paint     4.5   215644  25.0   \n",
       "4              Pixel Draw - Number Art Coloring Book     4.3      967   2.8   \n",
       "\n",
       "     Installs  Price Content Rating  Last Updated (Year/Month)  \\\n",
       "0     10000.0    0.0       Everyone                       80.0   \n",
       "1    500000.0    0.0       Everyone                       80.0   \n",
       "2   5000000.0    0.0       Everyone                       87.0   \n",
       "3  50000000.0    0.0           Teen                       85.0   \n",
       "4    100000.0    0.0       Everyone                       85.0   \n",
       "\n",
       "  Category (categorical) Type (categorical)       Genres (categorical)  \n",
       "0         ART_AND_DESIGN               Free               Art & Design  \n",
       "1         ART_AND_DESIGN               Free  Art & Design;Pretend Play  \n",
       "2         ART_AND_DESIGN               Free               Art & Design  \n",
       "3         ART_AND_DESIGN               Free               Art & Design  \n",
       "4         ART_AND_DESIGN               Free    Art & Design;Creativity  "
      ]
     },
     "execution_count": 9,
     "metadata": {},
     "output_type": "execute_result"
    }
   ],
   "source": [
    "#Dropping unnecessary columns (app versions (we are not interested in)/numeric versions of some categorical variables/factor version of some numeric variables/ derived columns from the original ones)\n",
    "df1.drop(columns=['Current Ver (categorical)','Android Ver (categorical)', 'Current Ver', 'Android Ver', 'Last Updated','Last Updated (Year)','Category','Type','Last Updated (Year/Month) (categorical)','Genres','No_reviews_count','Reviews_present_count'], inplace = True)\n",
    "\"pruned Google play store dataset with {0} rows and {1} columns\".format(len(df1),len(df1.columns))\n",
    "df1.head()"
   ]
  },
  {
   "cell_type": "markdown",
   "metadata": {},
   "source": [
    "## 2.2 Dataset 2 Cleaning"
   ]
  },
  {
   "cell_type": "code",
   "execution_count": 10,
   "metadata": {},
   "outputs": [
    {
     "data": {
      "text/html": [
       "<div>\n",
       "<style scoped>\n",
       "    .dataframe tbody tr th:only-of-type {\n",
       "        vertical-align: middle;\n",
       "    }\n",
       "\n",
       "    .dataframe tbody tr th {\n",
       "        vertical-align: top;\n",
       "    }\n",
       "\n",
       "    .dataframe thead th {\n",
       "        text-align: right;\n",
       "    }\n",
       "</style>\n",
       "<table border=\"1\" class=\"dataframe\">\n",
       "  <thead>\n",
       "    <tr style=\"text-align: right;\">\n",
       "      <th></th>\n",
       "      <th>App</th>\n",
       "      <th>Translated_Review</th>\n",
       "      <th>sentences_count</th>\n",
       "      <th>characters_count</th>\n",
       "      <th>spaces_count</th>\n",
       "      <th>words_count</th>\n",
       "      <th>duplicates_count</th>\n",
       "      <th>chars_excl_spaces_count</th>\n",
       "      <th>emoji_count</th>\n",
       "      <th>whole_numbers_count</th>\n",
       "      <th>...</th>\n",
       "      <th>sentiment_subjectivity</th>\n",
       "      <th>sentiment_subjectivity_summarised</th>\n",
       "      <th>spelling_quality_score</th>\n",
       "      <th>spelling_quality</th>\n",
       "      <th>spelling_quality_summarised</th>\n",
       "      <th>grammar_check_score</th>\n",
       "      <th>grammar_check</th>\n",
       "      <th>original_Sentiment</th>\n",
       "      <th>original_Sentiment_Polarity</th>\n",
       "      <th>original_Sentiment_Subjectivity</th>\n",
       "    </tr>\n",
       "  </thead>\n",
       "  <tbody>\n",
       "    <tr>\n",
       "      <th>0</th>\n",
       "      <td>10 Best Foods for You</td>\n",
       "      <td>I like eat delicious food. That's I'm cooking ...</td>\n",
       "      <td>2.0</td>\n",
       "      <td>122.0</td>\n",
       "      <td>20.0</td>\n",
       "      <td>22.0</td>\n",
       "      <td>6.0</td>\n",
       "      <td>102.0</td>\n",
       "      <td>0.0</td>\n",
       "      <td>1.0</td>\n",
       "      <td>...</td>\n",
       "      <td>Objective/subjective</td>\n",
       "      <td>Objective/subjective</td>\n",
       "      <td>0.875</td>\n",
       "      <td>Bad</td>\n",
       "      <td>Bad</td>\n",
       "      <td>5.0</td>\n",
       "      <td>5 issues</td>\n",
       "      <td>Positive</td>\n",
       "      <td>1.00</td>\n",
       "      <td>0.533333</td>\n",
       "    </tr>\n",
       "    <tr>\n",
       "      <th>1</th>\n",
       "      <td>10 Best Foods for You</td>\n",
       "      <td>This help eating healthy exercise regular basis</td>\n",
       "      <td>1.0</td>\n",
       "      <td>47.0</td>\n",
       "      <td>6.0</td>\n",
       "      <td>7.0</td>\n",
       "      <td>0.0</td>\n",
       "      <td>41.0</td>\n",
       "      <td>0.0</td>\n",
       "      <td>0.0</td>\n",
       "      <td>...</td>\n",
       "      <td>Pretty objective</td>\n",
       "      <td>Objective</td>\n",
       "      <td>1.000</td>\n",
       "      <td>Very good</td>\n",
       "      <td>Good</td>\n",
       "      <td>0.0</td>\n",
       "      <td>No issues</td>\n",
       "      <td>Positive</td>\n",
       "      <td>0.25</td>\n",
       "      <td>0.288462</td>\n",
       "    </tr>\n",
       "    <tr>\n",
       "      <th>2</th>\n",
       "      <td>10 Best Foods for You</td>\n",
       "      <td>NaN</td>\n",
       "      <td>NaN</td>\n",
       "      <td>NaN</td>\n",
       "      <td>NaN</td>\n",
       "      <td>NaN</td>\n",
       "      <td>NaN</td>\n",
       "      <td>NaN</td>\n",
       "      <td>NaN</td>\n",
       "      <td>NaN</td>\n",
       "      <td>...</td>\n",
       "      <td>NaN</td>\n",
       "      <td>NaN</td>\n",
       "      <td>NaN</td>\n",
       "      <td>NaN</td>\n",
       "      <td>NaN</td>\n",
       "      <td>NaN</td>\n",
       "      <td>NaN</td>\n",
       "      <td>NaN</td>\n",
       "      <td>NaN</td>\n",
       "      <td>NaN</td>\n",
       "    </tr>\n",
       "    <tr>\n",
       "      <th>3</th>\n",
       "      <td>10 Best Foods for You</td>\n",
       "      <td>Works great especially going grocery store</td>\n",
       "      <td>1.0</td>\n",
       "      <td>42.0</td>\n",
       "      <td>5.0</td>\n",
       "      <td>6.0</td>\n",
       "      <td>0.0</td>\n",
       "      <td>37.0</td>\n",
       "      <td>0.0</td>\n",
       "      <td>0.0</td>\n",
       "      <td>...</td>\n",
       "      <td>Quite subjective</td>\n",
       "      <td>Subjective</td>\n",
       "      <td>1.000</td>\n",
       "      <td>Very good</td>\n",
       "      <td>Good</td>\n",
       "      <td>0.0</td>\n",
       "      <td>No issues</td>\n",
       "      <td>Positive</td>\n",
       "      <td>0.40</td>\n",
       "      <td>0.875000</td>\n",
       "    </tr>\n",
       "    <tr>\n",
       "      <th>4</th>\n",
       "      <td>10 Best Foods for You</td>\n",
       "      <td>Best idea us</td>\n",
       "      <td>1.0</td>\n",
       "      <td>12.0</td>\n",
       "      <td>2.0</td>\n",
       "      <td>3.0</td>\n",
       "      <td>0.0</td>\n",
       "      <td>10.0</td>\n",
       "      <td>0.0</td>\n",
       "      <td>0.0</td>\n",
       "      <td>...</td>\n",
       "      <td>Pretty objective</td>\n",
       "      <td>Objective</td>\n",
       "      <td>1.000</td>\n",
       "      <td>Very good</td>\n",
       "      <td>Good</td>\n",
       "      <td>1.0</td>\n",
       "      <td>1 issue</td>\n",
       "      <td>Positive</td>\n",
       "      <td>1.00</td>\n",
       "      <td>0.300000</td>\n",
       "    </tr>\n",
       "  </tbody>\n",
       "</table>\n",
       "<p>5 rows × 29 columns</p>\n",
       "</div>"
      ],
      "text/plain": [
       "                     App                                  Translated_Review  \\\n",
       "0  10 Best Foods for You  I like eat delicious food. That's I'm cooking ...   \n",
       "1  10 Best Foods for You    This help eating healthy exercise regular basis   \n",
       "2  10 Best Foods for You                                                NaN   \n",
       "3  10 Best Foods for You         Works great especially going grocery store   \n",
       "4  10 Best Foods for You                                       Best idea us   \n",
       "\n",
       "   sentences_count  characters_count  spaces_count  words_count  \\\n",
       "0              2.0             122.0          20.0         22.0   \n",
       "1              1.0              47.0           6.0          7.0   \n",
       "2              NaN               NaN           NaN          NaN   \n",
       "3              1.0              42.0           5.0          6.0   \n",
       "4              1.0              12.0           2.0          3.0   \n",
       "\n",
       "   duplicates_count  chars_excl_spaces_count  emoji_count  \\\n",
       "0               6.0                    102.0          0.0   \n",
       "1               0.0                     41.0          0.0   \n",
       "2               NaN                      NaN          NaN   \n",
       "3               0.0                     37.0          0.0   \n",
       "4               0.0                     10.0          0.0   \n",
       "\n",
       "   whole_numbers_count  ...  sentiment_subjectivity  \\\n",
       "0                  1.0  ...    Objective/subjective   \n",
       "1                  0.0  ...        Pretty objective   \n",
       "2                  NaN  ...                     NaN   \n",
       "3                  0.0  ...        Quite subjective   \n",
       "4                  0.0  ...        Pretty objective   \n",
       "\n",
       "   sentiment_subjectivity_summarised  spelling_quality_score  \\\n",
       "0               Objective/subjective                   0.875   \n",
       "1                          Objective                   1.000   \n",
       "2                                NaN                     NaN   \n",
       "3                         Subjective                   1.000   \n",
       "4                          Objective                   1.000   \n",
       "\n",
       "   spelling_quality  spelling_quality_summarised  grammar_check_score  \\\n",
       "0               Bad                          Bad                  5.0   \n",
       "1         Very good                         Good                  0.0   \n",
       "2               NaN                          NaN                  NaN   \n",
       "3         Very good                         Good                  0.0   \n",
       "4         Very good                         Good                  1.0   \n",
       "\n",
       "  grammar_check original_Sentiment  original_Sentiment_Polarity  \\\n",
       "0      5 issues           Positive                         1.00   \n",
       "1     No issues           Positive                         0.25   \n",
       "2           NaN                NaN                          NaN   \n",
       "3     No issues           Positive                         0.40   \n",
       "4       1 issue           Positive                         1.00   \n",
       "\n",
       "  original_Sentiment_Subjectivity  \n",
       "0                        0.533333  \n",
       "1                        0.288462  \n",
       "2                             NaN  \n",
       "3                        0.875000  \n",
       "4                        0.300000  \n",
       "\n",
       "[5 rows x 29 columns]"
      ]
     },
     "execution_count": 10,
     "metadata": {},
     "output_type": "execute_result"
    }
   ],
   "source": [
    "#Display dataset 2\n",
    "df2 = pd.read_csv('extended_googleplaystore_user_reviews.csv')\n",
    "\"imported Google play store user reveiws dataset with {0} reviews and {1} columns\".format(len(df2),len(df2.columns))\n",
    "df2.head()"
   ]
  },
  {
   "cell_type": "code",
   "execution_count": 17,
   "metadata": {},
   "outputs": [
    {
     "data": {
      "text/plain": [
       "grammar_check_score                  0\n",
       "spelling_quality_summarised          0\n",
       "spelling_quality_score               0\n",
       "sentiment_subjectivity_summarised    0\n",
       "sentiment_subjectivity_score         0\n",
       "sentiment_polarity_summarised        0\n",
       "sentiment_polarity_score             0\n",
       "Translated_Review                    0\n",
       "App                                  0\n",
       "dtype: int64"
      ]
     },
     "execution_count": 17,
     "metadata": {},
     "output_type": "execute_result"
    }
   ],
   "source": [
    "#Check for null values in dataset 2\n",
    "df2.isnull().sum().sort_values(ascending=False)"
   ]
  },
  {
   "cell_type": "markdown",
   "metadata": {},
   "source": [
    "Invalid reveiws take up a large percentage of the dataset, however they are consistent across all columns implying that they can be dropped."
   ]
  },
  {
   "cell_type": "code",
   "execution_count": 18,
   "metadata": {},
   "outputs": [
    {
     "data": {
      "text/plain": [
       "'Total number valid reviews in the dataset : 37427, this is 100.00%  of the total dataset'"
      ]
     },
     "execution_count": 18,
     "metadata": {},
     "output_type": "execute_result"
    }
   ],
   "source": [
    "#Drop null values and calculate number of valid reveiws\n",
    "df2 = df2.dropna(0)\n",
    "f\"Total number valid reviews in the dataset : {len(df2['Translated_Review'])}, this is {(1-(df2['Translated_Review'].isna().sum()/len(df2)))*100:.2f}%  of the total dataset\""
   ]
  },
  {
   "cell_type": "markdown",
   "metadata": {},
   "source": [
    "We used a heatmap to identify correlations between variables"
   ]
  },
  {
   "cell_type": "code",
   "execution_count": 19,
   "metadata": {},
   "outputs": [
    {
     "data": {
      "text/plain": [
       "<matplotlib.axes._subplots.AxesSubplot at 0x22d2e365908>"
      ]
     },
     "execution_count": 19,
     "metadata": {},
     "output_type": "execute_result"
    },
    {
     "data": {
      "image/png": "[encoded data removed]",
      "text/plain": [
       "<Figure size 1728x1440 with 2 Axes>"
      ]
     },
     "metadata": {
      "needs_background": "light"
     },
     "output_type": "display_data"
    }
   ],
   "source": [
    "# Correlation Heatmap for Dataset 2 \n",
    "df3=df2.copy()\n",
    "corrMatrix1 =df3.corr()\n",
    "corrMatrix1=corrMatrix1.round(1)\n",
    "plt.figure(figsize=(24,20))\n",
    "sns.heatmap(df2.corr(),cmap='YlGnBu',annot=True, alpha=.8)"
   ]
  },
  {
   "cell_type": "markdown",
   "metadata": {},
   "source": [
    "Highly correlated variables can be removed or merged. We also remove columns that will not be used for later analysis."
   ]
  },
  {
   "cell_type": "code",
   "execution_count": 20,
   "metadata": {},
   "outputs": [
    {
     "ename": "KeyError",
     "evalue": "\"['sentences_count' 'characters_count' 'words_count' 'spaces_count'\\n 'chars_excl_spaces_count' 'whole_numbers_count' 'duplicates_count'\\n 'alpha_numeric_count' 'non_alpha_numeric_count' 'punctuations_count'\\n 'stop_words_count' 'dates_count' 'sentiment_polarity'\\n 'sentiment_subjectivity' 'spelling_quality' 'grammar_check'\\n 'original_Sentiment' 'original_Sentiment_Polarity'\\n 'original_Sentiment_Subjectivity' 'emoji_count'] not found in axis\"",
     "output_type": "error",
     "traceback": [
      "\u001b[1;31m---------------------------------------------------------------------------\u001b[0m",
      "\u001b[1;31mKeyError\u001b[0m                                  Traceback (most recent call last)",
      "\u001b[1;32m<ipython-input-20-2117542300fb>\u001b[0m in \u001b[0;36m<module>\u001b[1;34m\u001b[0m\n\u001b[0;32m     21\u001b[0m            'emoji_count']\n\u001b[0;32m     22\u001b[0m \u001b[1;33m\u001b[0m\u001b[0m\n\u001b[1;32m---> 23\u001b[1;33m \u001b[0mdf2\u001b[0m\u001b[1;33m.\u001b[0m\u001b[0mdrop\u001b[0m\u001b[1;33m(\u001b[0m\u001b[0mto_drop\u001b[0m\u001b[1;33m,\u001b[0m \u001b[0minplace\u001b[0m\u001b[1;33m=\u001b[0m\u001b[1;32mTrue\u001b[0m\u001b[1;33m,\u001b[0m \u001b[0maxis\u001b[0m\u001b[1;33m=\u001b[0m\u001b[1;36m1\u001b[0m\u001b[1;33m)\u001b[0m\u001b[1;33m\u001b[0m\u001b[1;33m\u001b[0m\u001b[0m\n\u001b[0m\u001b[0;32m     24\u001b[0m \u001b[0mdf2\u001b[0m\u001b[1;33m.\u001b[0m\u001b[0mhead\u001b[0m\u001b[1;33m(\u001b[0m\u001b[1;36m4\u001b[0m\u001b[1;33m)\u001b[0m\u001b[1;33m\u001b[0m\u001b[1;33m\u001b[0m\u001b[0m\n",
      "\u001b[1;32m~\\Documents\\Temp\\lib\\site-packages\\pandas\\core\\frame.py\u001b[0m in \u001b[0;36mdrop\u001b[1;34m(self, labels, axis, index, columns, level, inplace, errors)\u001b[0m\n\u001b[0;32m   3938\u001b[0m                                            \u001b[0mindex\u001b[0m\u001b[1;33m=\u001b[0m\u001b[0mindex\u001b[0m\u001b[1;33m,\u001b[0m \u001b[0mcolumns\u001b[0m\u001b[1;33m=\u001b[0m\u001b[0mcolumns\u001b[0m\u001b[1;33m,\u001b[0m\u001b[1;33m\u001b[0m\u001b[1;33m\u001b[0m\u001b[0m\n\u001b[0;32m   3939\u001b[0m                                            \u001b[0mlevel\u001b[0m\u001b[1;33m=\u001b[0m\u001b[0mlevel\u001b[0m\u001b[1;33m,\u001b[0m \u001b[0minplace\u001b[0m\u001b[1;33m=\u001b[0m\u001b[0minplace\u001b[0m\u001b[1;33m,\u001b[0m\u001b[1;33m\u001b[0m\u001b[1;33m\u001b[0m\u001b[0m\n\u001b[1;32m-> 3940\u001b[1;33m                                            errors=errors)\n\u001b[0m\u001b[0;32m   3941\u001b[0m \u001b[1;33m\u001b[0m\u001b[0m\n\u001b[0;32m   3942\u001b[0m     @rewrite_axis_style_signature('mapper', [('copy', True),\n",
      "\u001b[1;32m~\\Documents\\Temp\\lib\\site-packages\\pandas\\core\\generic.py\u001b[0m in \u001b[0;36mdrop\u001b[1;34m(self, labels, axis, index, columns, level, inplace, errors)\u001b[0m\n\u001b[0;32m   3778\u001b[0m         \u001b[1;32mfor\u001b[0m \u001b[0maxis\u001b[0m\u001b[1;33m,\u001b[0m \u001b[0mlabels\u001b[0m \u001b[1;32min\u001b[0m \u001b[0maxes\u001b[0m\u001b[1;33m.\u001b[0m\u001b[0mitems\u001b[0m\u001b[1;33m(\u001b[0m\u001b[1;33m)\u001b[0m\u001b[1;33m:\u001b[0m\u001b[1;33m\u001b[0m\u001b[1;33m\u001b[0m\u001b[0m\n\u001b[0;32m   3779\u001b[0m             \u001b[1;32mif\u001b[0m \u001b[0mlabels\u001b[0m \u001b[1;32mis\u001b[0m \u001b[1;32mnot\u001b[0m \u001b[1;32mNone\u001b[0m\u001b[1;33m:\u001b[0m\u001b[1;33m\u001b[0m\u001b[1;33m\u001b[0m\u001b[0m\n\u001b[1;32m-> 3780\u001b[1;33m                 \u001b[0mobj\u001b[0m \u001b[1;33m=\u001b[0m \u001b[0mobj\u001b[0m\u001b[1;33m.\u001b[0m\u001b[0m_drop_axis\u001b[0m\u001b[1;33m(\u001b[0m\u001b[0mlabels\u001b[0m\u001b[1;33m,\u001b[0m \u001b[0maxis\u001b[0m\u001b[1;33m,\u001b[0m \u001b[0mlevel\u001b[0m\u001b[1;33m=\u001b[0m\u001b[0mlevel\u001b[0m\u001b[1;33m,\u001b[0m \u001b[0merrors\u001b[0m\u001b[1;33m=\u001b[0m\u001b[0merrors\u001b[0m\u001b[1;33m)\u001b[0m\u001b[1;33m\u001b[0m\u001b[1;33m\u001b[0m\u001b[0m\n\u001b[0m\u001b[0;32m   3781\u001b[0m \u001b[1;33m\u001b[0m\u001b[0m\n\u001b[0;32m   3782\u001b[0m         \u001b[1;32mif\u001b[0m \u001b[0minplace\u001b[0m\u001b[1;33m:\u001b[0m\u001b[1;33m\u001b[0m\u001b[1;33m\u001b[0m\u001b[0m\n",
      "\u001b[1;32m~\\Documents\\Temp\\lib\\site-packages\\pandas\\core\\generic.py\u001b[0m in \u001b[0;36m_drop_axis\u001b[1;34m(self, labels, axis, level, errors)\u001b[0m\n\u001b[0;32m   3810\u001b[0m                 \u001b[0mnew_axis\u001b[0m \u001b[1;33m=\u001b[0m \u001b[0maxis\u001b[0m\u001b[1;33m.\u001b[0m\u001b[0mdrop\u001b[0m\u001b[1;33m(\u001b[0m\u001b[0mlabels\u001b[0m\u001b[1;33m,\u001b[0m \u001b[0mlevel\u001b[0m\u001b[1;33m=\u001b[0m\u001b[0mlevel\u001b[0m\u001b[1;33m,\u001b[0m \u001b[0merrors\u001b[0m\u001b[1;33m=\u001b[0m\u001b[0merrors\u001b[0m\u001b[1;33m)\u001b[0m\u001b[1;33m\u001b[0m\u001b[1;33m\u001b[0m\u001b[0m\n\u001b[0;32m   3811\u001b[0m             \u001b[1;32melse\u001b[0m\u001b[1;33m:\u001b[0m\u001b[1;33m\u001b[0m\u001b[1;33m\u001b[0m\u001b[0m\n\u001b[1;32m-> 3812\u001b[1;33m                 \u001b[0mnew_axis\u001b[0m \u001b[1;33m=\u001b[0m \u001b[0maxis\u001b[0m\u001b[1;33m.\u001b[0m\u001b[0mdrop\u001b[0m\u001b[1;33m(\u001b[0m\u001b[0mlabels\u001b[0m\u001b[1;33m,\u001b[0m \u001b[0merrors\u001b[0m\u001b[1;33m=\u001b[0m\u001b[0merrors\u001b[0m\u001b[1;33m)\u001b[0m\u001b[1;33m\u001b[0m\u001b[1;33m\u001b[0m\u001b[0m\n\u001b[0m\u001b[0;32m   3813\u001b[0m             \u001b[0mresult\u001b[0m \u001b[1;33m=\u001b[0m \u001b[0mself\u001b[0m\u001b[1;33m.\u001b[0m\u001b[0mreindex\u001b[0m\u001b[1;33m(\u001b[0m\u001b[1;33m**\u001b[0m\u001b[1;33m{\u001b[0m\u001b[0maxis_name\u001b[0m\u001b[1;33m:\u001b[0m \u001b[0mnew_axis\u001b[0m\u001b[1;33m}\u001b[0m\u001b[1;33m)\u001b[0m\u001b[1;33m\u001b[0m\u001b[1;33m\u001b[0m\u001b[0m\n\u001b[0;32m   3814\u001b[0m \u001b[1;33m\u001b[0m\u001b[0m\n",
      "\u001b[1;32m~\\Documents\\Temp\\lib\\site-packages\\pandas\\core\\indexes\\base.py\u001b[0m in \u001b[0;36mdrop\u001b[1;34m(self, labels, errors)\u001b[0m\n\u001b[0;32m   4963\u001b[0m             \u001b[1;32mif\u001b[0m \u001b[0merrors\u001b[0m \u001b[1;33m!=\u001b[0m \u001b[1;34m'ignore'\u001b[0m\u001b[1;33m:\u001b[0m\u001b[1;33m\u001b[0m\u001b[1;33m\u001b[0m\u001b[0m\n\u001b[0;32m   4964\u001b[0m                 raise KeyError(\n\u001b[1;32m-> 4965\u001b[1;33m                     '{} not found in axis'.format(labels[mask]))\n\u001b[0m\u001b[0;32m   4966\u001b[0m             \u001b[0mindexer\u001b[0m \u001b[1;33m=\u001b[0m \u001b[0mindexer\u001b[0m\u001b[1;33m[\u001b[0m\u001b[1;33m~\u001b[0m\u001b[0mmask\u001b[0m\u001b[1;33m]\u001b[0m\u001b[1;33m\u001b[0m\u001b[1;33m\u001b[0m\u001b[0m\n\u001b[0;32m   4967\u001b[0m         \u001b[1;32mreturn\u001b[0m \u001b[0mself\u001b[0m\u001b[1;33m.\u001b[0m\u001b[0mdelete\u001b[0m\u001b[1;33m(\u001b[0m\u001b[0mindexer\u001b[0m\u001b[1;33m)\u001b[0m\u001b[1;33m\u001b[0m\u001b[1;33m\u001b[0m\u001b[0m\n",
      "\u001b[1;31mKeyError\u001b[0m: \"['sentences_count' 'characters_count' 'words_count' 'spaces_count'\\n 'chars_excl_spaces_count' 'whole_numbers_count' 'duplicates_count'\\n 'alpha_numeric_count' 'non_alpha_numeric_count' 'punctuations_count'\\n 'stop_words_count' 'dates_count' 'sentiment_polarity'\\n 'sentiment_subjectivity' 'spelling_quality' 'grammar_check'\\n 'original_Sentiment' 'original_Sentiment_Polarity'\\n 'original_Sentiment_Subjectivity' 'emoji_count'] not found in axis\""
     ]
    }
   ],
   "source": [
    "#Removing columns from dataset 2\n",
    "to_drop = ['sentences_count',\n",
    "           'characters_count',\n",
    "           'words_count',\n",
    "           'spaces_count',\n",
    "           'chars_excl_spaces_count',\n",
    "           'whole_numbers_count',\n",
    "           'duplicates_count',\n",
    "           'alpha_numeric_count',\n",
    "           'non_alpha_numeric_count',\n",
    "           'punctuations_count',\n",
    "           'stop_words_count',\n",
    "           'dates_count',\n",
    "           'sentiment_polarity',\n",
    "           'sentiment_subjectivity',\n",
    "           'spelling_quality',\n",
    "           'grammar_check',\n",
    "           'original_Sentiment',\n",
    "           'original_Sentiment_Polarity',\n",
    "           'original_Sentiment_Subjectivity',\n",
    "           'emoji_count']\n",
    "\n",
    "df2.drop(to_drop, inplace=True, axis=1)\n",
    "df2.head(4)"
   ]
  },
  {
   "cell_type": "markdown",
   "metadata": {},
   "source": [
    "## 2.3 Merging Dataset "
   ]
  },
  {
   "cell_type": "markdown",
   "metadata": {},
   "source": [
    "We then merge the two datasets to enable analysis of them as a whole. \n",
    "\n",
    "Process:\n",
    "<ol>\n",
    " <li>Group apps based on scores and take the mean.</li>\n",
    " <li>Use the 'bining' method to attach verbal descriptions and enable understanding of scores.</li>\n",
    "</ol>\n"
   ]
  },
  {
   "cell_type": "code",
   "execution_count": 21,
   "metadata": {},
   "outputs": [
    {
     "data": {
      "text/html": [
       "<div>\n",
       "<style scoped>\n",
       "    .dataframe tbody tr th:only-of-type {\n",
       "        vertical-align: middle;\n",
       "    }\n",
       "\n",
       "    .dataframe tbody tr th {\n",
       "        vertical-align: top;\n",
       "    }\n",
       "\n",
       "    .dataframe thead th {\n",
       "        text-align: right;\n",
       "    }\n",
       "</style>\n",
       "<table border=\"1\" class=\"dataframe\">\n",
       "  <thead>\n",
       "    <tr style=\"text-align: right;\">\n",
       "      <th></th>\n",
       "      <th>App</th>\n",
       "      <th>sentiment_polarity_score</th>\n",
       "    </tr>\n",
       "  </thead>\n",
       "  <tbody>\n",
       "    <tr>\n",
       "      <th>846</th>\n",
       "      <td>HomeWork</td>\n",
       "      <td>1.000000</td>\n",
       "    </tr>\n",
       "    <tr>\n",
       "      <th>756</th>\n",
       "      <td>Google Slides</td>\n",
       "      <td>0.933333</td>\n",
       "    </tr>\n",
       "    <tr>\n",
       "      <th>435</th>\n",
       "      <td>Daily Workouts - Exercise Fitness Routine Trainer</td>\n",
       "      <td>0.800000</td>\n",
       "    </tr>\n",
       "    <tr>\n",
       "      <th>218</th>\n",
       "      <td>Bed Time Fan - White Noise Sleep Sounds</td>\n",
       "      <td>0.781250</td>\n",
       "    </tr>\n",
       "    <tr>\n",
       "      <th>330</th>\n",
       "      <td>Cameringo Lite. Filters Camera</td>\n",
       "      <td>0.770269</td>\n",
       "    </tr>\n",
       "    <tr>\n",
       "      <th>755</th>\n",
       "      <td>Google Primer</td>\n",
       "      <td>0.750000</td>\n",
       "    </tr>\n",
       "    <tr>\n",
       "      <th>700</th>\n",
       "      <td>GPS Map Free</td>\n",
       "      <td>0.700000</td>\n",
       "    </tr>\n",
       "    <tr>\n",
       "      <th>701</th>\n",
       "      <td>GPS Speedometer and Odometer</td>\n",
       "      <td>0.687500</td>\n",
       "    </tr>\n",
       "    <tr>\n",
       "      <th>221</th>\n",
       "      <td>Best Ovulation Tracker Fertility Calendar App ...</td>\n",
       "      <td>0.595313</td>\n",
       "    </tr>\n",
       "    <tr>\n",
       "      <th>13</th>\n",
       "      <td>3D Live Neon Weed Launcher</td>\n",
       "      <td>0.568182</td>\n",
       "    </tr>\n",
       "    <tr>\n",
       "      <th>393</th>\n",
       "      <td>Cookbook Recipes</td>\n",
       "      <td>0.565437</td>\n",
       "    </tr>\n",
       "    <tr>\n",
       "      <th>299</th>\n",
       "      <td>CM Flashlight (Compass, SOS)</td>\n",
       "      <td>0.556250</td>\n",
       "    </tr>\n",
       "    <tr>\n",
       "      <th>262</th>\n",
       "      <td>Brasileirão Pro 2018 - Série A e B</td>\n",
       "      <td>0.550872</td>\n",
       "    </tr>\n",
       "    <tr>\n",
       "      <th>734</th>\n",
       "      <td>Goldstar: Live Event Tickets</td>\n",
       "      <td>0.549266</td>\n",
       "    </tr>\n",
       "    <tr>\n",
       "      <th>836</th>\n",
       "      <td>Hipmunk Hotels &amp; Flights</td>\n",
       "      <td>0.546302</td>\n",
       "    </tr>\n",
       "    <tr>\n",
       "      <th>23</th>\n",
       "      <td>850 Sports News Digest</td>\n",
       "      <td>0.542860</td>\n",
       "    </tr>\n",
       "    <tr>\n",
       "      <th>289</th>\n",
       "      <td>C++ Tutorials</td>\n",
       "      <td>0.530926</td>\n",
       "    </tr>\n",
       "    <tr>\n",
       "      <th>812</th>\n",
       "      <td>Haystack TV: Local &amp; World News - Free</td>\n",
       "      <td>0.529500</td>\n",
       "    </tr>\n",
       "    <tr>\n",
       "      <th>86</th>\n",
       "      <td>All Football GO- Live Score, Games</td>\n",
       "      <td>0.526515</td>\n",
       "    </tr>\n",
       "    <tr>\n",
       "      <th>844</th>\n",
       "      <td>Home Workout for Men - Bodybuilding</td>\n",
       "      <td>0.523450</td>\n",
       "    </tr>\n",
       "    <tr>\n",
       "      <th>50</th>\n",
       "      <td>ASUS Sound Recorder</td>\n",
       "      <td>0.516771</td>\n",
       "    </tr>\n",
       "    <tr>\n",
       "      <th>483</th>\n",
       "      <td>Door Lock Screen</td>\n",
       "      <td>0.516622</td>\n",
       "    </tr>\n",
       "    <tr>\n",
       "      <th>156</th>\n",
       "      <td>BBVA Spain</td>\n",
       "      <td>0.515086</td>\n",
       "    </tr>\n",
       "    <tr>\n",
       "      <th>733</th>\n",
       "      <td>Golden Launcher</td>\n",
       "      <td>0.507079</td>\n",
       "    </tr>\n",
       "    <tr>\n",
       "      <th>544</th>\n",
       "      <td>Eve Period Tracker - Love, Sex &amp; Relationships...</td>\n",
       "      <td>0.505037</td>\n",
       "    </tr>\n",
       "    <tr>\n",
       "      <th>84</th>\n",
       "      <td>All Events in City</td>\n",
       "      <td>0.502860</td>\n",
       "    </tr>\n",
       "    <tr>\n",
       "      <th>387</th>\n",
       "      <td>Comptia A+ 220-901 &amp; 220-902</td>\n",
       "      <td>0.500792</td>\n",
       "    </tr>\n",
       "    <tr>\n",
       "      <th>93</th>\n",
       "      <td>All-in-One Mahjong 3 FREE</td>\n",
       "      <td>0.500000</td>\n",
       "    </tr>\n",
       "    <tr>\n",
       "      <th>415</th>\n",
       "      <td>Curso de Ingles Gratis</td>\n",
       "      <td>0.499902</td>\n",
       "    </tr>\n",
       "    <tr>\n",
       "      <th>264</th>\n",
       "      <td>Brightest Flashlight Free ®</td>\n",
       "      <td>0.492571</td>\n",
       "    </tr>\n",
       "    <tr>\n",
       "      <th>...</th>\n",
       "      <td>...</td>\n",
       "      <td>...</td>\n",
       "    </tr>\n",
       "    <tr>\n",
       "      <th>464</th>\n",
       "      <td>Dil Mil</td>\n",
       "      <td>-0.063482</td>\n",
       "    </tr>\n",
       "    <tr>\n",
       "      <th>437</th>\n",
       "      <td>Dailyhunt (Newshunt) - Latest News, Viral Videos</td>\n",
       "      <td>-0.066146</td>\n",
       "    </tr>\n",
       "    <tr>\n",
       "      <th>825</th>\n",
       "      <td>Hide App, Private Dating, Safe Chat - PrivacyH...</td>\n",
       "      <td>-0.069640</td>\n",
       "    </tr>\n",
       "    <tr>\n",
       "      <th>190</th>\n",
       "      <td>Bancomer móvil</td>\n",
       "      <td>-0.071853</td>\n",
       "    </tr>\n",
       "    <tr>\n",
       "      <th>369</th>\n",
       "      <td>Claro</td>\n",
       "      <td>-0.072082</td>\n",
       "    </tr>\n",
       "    <tr>\n",
       "      <th>552</th>\n",
       "      <td>Extreme Car Driving Simulator</td>\n",
       "      <td>-0.073611</td>\n",
       "    </tr>\n",
       "    <tr>\n",
       "      <th>103</th>\n",
       "      <td>American Airlines</td>\n",
       "      <td>-0.075636</td>\n",
       "    </tr>\n",
       "    <tr>\n",
       "      <th>738</th>\n",
       "      <td>GolfLogix GPS + Putt Breaks</td>\n",
       "      <td>-0.078432</td>\n",
       "    </tr>\n",
       "    <tr>\n",
       "      <th>449</th>\n",
       "      <td>Delta Dental</td>\n",
       "      <td>-0.084185</td>\n",
       "    </tr>\n",
       "    <tr>\n",
       "      <th>57</th>\n",
       "      <td>Account Manager</td>\n",
       "      <td>-0.087635</td>\n",
       "    </tr>\n",
       "    <tr>\n",
       "      <th>120</th>\n",
       "      <td>Anthem Anywhere</td>\n",
       "      <td>-0.087977</td>\n",
       "    </tr>\n",
       "    <tr>\n",
       "      <th>290</th>\n",
       "      <td>CAIXA</td>\n",
       "      <td>-0.089015</td>\n",
       "    </tr>\n",
       "    <tr>\n",
       "      <th>333</th>\n",
       "      <td>Candy Crush Jelly Saga</td>\n",
       "      <td>-0.092334</td>\n",
       "    </tr>\n",
       "    <tr>\n",
       "      <th>489</th>\n",
       "      <td>Dr. Panda Restaurant 3</td>\n",
       "      <td>-0.097468</td>\n",
       "    </tr>\n",
       "    <tr>\n",
       "      <th>209</th>\n",
       "      <td>Be A Legend: Soccer</td>\n",
       "      <td>-0.099251</td>\n",
       "    </tr>\n",
       "    <tr>\n",
       "      <th>665</th>\n",
       "      <td>Free Live Talk-Video Call</td>\n",
       "      <td>-0.100000</td>\n",
       "    </tr>\n",
       "    <tr>\n",
       "      <th>445</th>\n",
       "      <td>Davis's Drug Guide</td>\n",
       "      <td>-0.100000</td>\n",
       "    </tr>\n",
       "    <tr>\n",
       "      <th>72</th>\n",
       "      <td>AirAsia</td>\n",
       "      <td>-0.103606</td>\n",
       "    </tr>\n",
       "    <tr>\n",
       "      <th>90</th>\n",
       "      <td>All Social Networks</td>\n",
       "      <td>-0.106410</td>\n",
       "    </tr>\n",
       "    <tr>\n",
       "      <th>121</th>\n",
       "      <td>Anthem BC Anywhere</td>\n",
       "      <td>-0.123233</td>\n",
       "    </tr>\n",
       "    <tr>\n",
       "      <th>219</th>\n",
       "      <td>Best Car Wallpapers</td>\n",
       "      <td>-0.133333</td>\n",
       "    </tr>\n",
       "    <tr>\n",
       "      <th>494</th>\n",
       "      <td>Draw In</td>\n",
       "      <td>-0.134167</td>\n",
       "    </tr>\n",
       "    <tr>\n",
       "      <th>837</th>\n",
       "      <td>Hitwe - meet people and chat</td>\n",
       "      <td>-0.139456</td>\n",
       "    </tr>\n",
       "    <tr>\n",
       "      <th>769</th>\n",
       "      <td>Guns of Glory</td>\n",
       "      <td>-0.142060</td>\n",
       "    </tr>\n",
       "    <tr>\n",
       "      <th>493</th>\n",
       "      <td>Draw A Stickman</td>\n",
       "      <td>-0.150000</td>\n",
       "    </tr>\n",
       "    <tr>\n",
       "      <th>319</th>\n",
       "      <td>Call of Duty:Black Ops Zombies</td>\n",
       "      <td>-0.162120</td>\n",
       "    </tr>\n",
       "    <tr>\n",
       "      <th>679</th>\n",
       "      <td>Fruit Block - Puzzle Legend</td>\n",
       "      <td>-0.183333</td>\n",
       "    </tr>\n",
       "    <tr>\n",
       "      <th>424</th>\n",
       "      <td>DEER HUNTER 2018</td>\n",
       "      <td>-0.383333</td>\n",
       "    </tr>\n",
       "    <tr>\n",
       "      <th>757</th>\n",
       "      <td>Google Street View</td>\n",
       "      <td>-0.500000</td>\n",
       "    </tr>\n",
       "    <tr>\n",
       "      <th>495</th>\n",
       "      <td>Draw Your Game</td>\n",
       "      <td>-0.668490</td>\n",
       "    </tr>\n",
       "  </tbody>\n",
       "</table>\n",
       "<p>865 rows × 2 columns</p>\n",
       "</div>"
      ],
      "text/plain": [
       "                                                   App  \\\n",
       "846                                           HomeWork   \n",
       "756                                      Google Slides   \n",
       "435  Daily Workouts - Exercise Fitness Routine Trainer   \n",
       "218            Bed Time Fan - White Noise Sleep Sounds   \n",
       "330                     Cameringo Lite. Filters Camera   \n",
       "755                                      Google Primer   \n",
       "700                                       GPS Map Free   \n",
       "701                       GPS Speedometer and Odometer   \n",
       "221  Best Ovulation Tracker Fertility Calendar App ...   \n",
       "13                          3D Live Neon Weed Launcher   \n",
       "393                                   Cookbook Recipes   \n",
       "299                       CM Flashlight (Compass, SOS)   \n",
       "262                 Brasileirão Pro 2018 - Série A e B   \n",
       "734                       Goldstar: Live Event Tickets   \n",
       "836                           Hipmunk Hotels & Flights   \n",
       "23                              850 Sports News Digest   \n",
       "289                                      C++ Tutorials   \n",
       "812             Haystack TV: Local & World News - Free   \n",
       "86                  All Football GO- Live Score, Games   \n",
       "844                Home Workout for Men - Bodybuilding   \n",
       "50                                 ASUS Sound Recorder   \n",
       "483                                   Door Lock Screen   \n",
       "156                                         BBVA Spain   \n",
       "733                                    Golden Launcher   \n",
       "544  Eve Period Tracker - Love, Sex & Relationships...   \n",
       "84                                  All Events in City   \n",
       "387                       Comptia A+ 220-901 & 220-902   \n",
       "93                           All-in-One Mahjong 3 FREE   \n",
       "415                             Curso de Ingles Gratis   \n",
       "264                        Brightest Flashlight Free ®   \n",
       "..                                                 ...   \n",
       "464                                            Dil Mil   \n",
       "437   Dailyhunt (Newshunt) - Latest News, Viral Videos   \n",
       "825  Hide App, Private Dating, Safe Chat - PrivacyH...   \n",
       "190                                     Bancomer móvil   \n",
       "369                                              Claro   \n",
       "552                      Extreme Car Driving Simulator   \n",
       "103                                  American Airlines   \n",
       "738                        GolfLogix GPS + Putt Breaks   \n",
       "449                                       Delta Dental   \n",
       "57                                     Account Manager   \n",
       "120                                    Anthem Anywhere   \n",
       "290                                              CAIXA   \n",
       "333                             Candy Crush Jelly Saga   \n",
       "489                             Dr. Panda Restaurant 3   \n",
       "209                                Be A Legend: Soccer   \n",
       "665                          Free Live Talk-Video Call   \n",
       "445                                 Davis's Drug Guide   \n",
       "72                                             AirAsia   \n",
       "90                                 All Social Networks   \n",
       "121                                 Anthem BC Anywhere   \n",
       "219                                Best Car Wallpapers   \n",
       "494                                            Draw In   \n",
       "837                       Hitwe - meet people and chat   \n",
       "769                                      Guns of Glory   \n",
       "493                                    Draw A Stickman   \n",
       "319                     Call of Duty:Black Ops Zombies   \n",
       "679                        Fruit Block - Puzzle Legend   \n",
       "424                                   DEER HUNTER 2018   \n",
       "757                                 Google Street View   \n",
       "495                                     Draw Your Game   \n",
       "\n",
       "     sentiment_polarity_score  \n",
       "846                  1.000000  \n",
       "756                  0.933333  \n",
       "435                  0.800000  \n",
       "218                  0.781250  \n",
       "330                  0.770269  \n",
       "755                  0.750000  \n",
       "700                  0.700000  \n",
       "701                  0.687500  \n",
       "221                  0.595313  \n",
       "13                   0.568182  \n",
       "393                  0.565437  \n",
       "299                  0.556250  \n",
       "262                  0.550872  \n",
       "734                  0.549266  \n",
       "836                  0.546302  \n",
       "23                   0.542860  \n",
       "289                  0.530926  \n",
       "812                  0.529500  \n",
       "86                   0.526515  \n",
       "844                  0.523450  \n",
       "50                   0.516771  \n",
       "483                  0.516622  \n",
       "156                  0.515086  \n",
       "733                  0.507079  \n",
       "544                  0.505037  \n",
       "84                   0.502860  \n",
       "387                  0.500792  \n",
       "93                   0.500000  \n",
       "415                  0.499902  \n",
       "264                  0.492571  \n",
       "..                        ...  \n",
       "464                 -0.063482  \n",
       "437                 -0.066146  \n",
       "825                 -0.069640  \n",
       "190                 -0.071853  \n",
       "369                 -0.072082  \n",
       "552                 -0.073611  \n",
       "103                 -0.075636  \n",
       "738                 -0.078432  \n",
       "449                 -0.084185  \n",
       "57                  -0.087635  \n",
       "120                 -0.087977  \n",
       "290                 -0.089015  \n",
       "333                 -0.092334  \n",
       "489                 -0.097468  \n",
       "209                 -0.099251  \n",
       "665                 -0.100000  \n",
       "445                 -0.100000  \n",
       "72                  -0.103606  \n",
       "90                  -0.106410  \n",
       "121                 -0.123233  \n",
       "219                 -0.133333  \n",
       "494                 -0.134167  \n",
       "837                 -0.139456  \n",
       "769                 -0.142060  \n",
       "493                 -0.150000  \n",
       "319                 -0.162120  \n",
       "679                 -0.183333  \n",
       "424                 -0.383333  \n",
       "757                 -0.500000  \n",
       "495                 -0.668490  \n",
       "\n",
       "[865 rows x 2 columns]"
      ]
     },
     "execution_count": 21,
     "metadata": {},
     "output_type": "execute_result"
    }
   ],
   "source": [
    "#Determining overall app polarity score for apps\n",
    "apps_avg_polarity_scores = df2.copy()\n",
    "apps_avg_polarity_scores = apps_avg_polarity_scores.groupby('App').mean()\n",
    "apps_avg_polarity_scores = apps_avg_polarity_scores[['sentiment_polarity_score']]\n",
    "apps_avg_polarity_scores = apps_avg_polarity_scores.reset_index()\n",
    "apps_avg_polarity = apps_avg_polarity_scores.sort_values('sentiment_polarity_score', ascending=False)\n",
    "apps_avg_polarity"
   ]
  },
  {
   "cell_type": "markdown",
   "metadata": {},
   "source": [
    "We use pdcut, creating equal-length bins."
   ]
  },
  {
   "cell_type": "code",
   "execution_count": 22,
   "metadata": {},
   "outputs": [
    {
     "data": {
      "text/html": [
       "<div>\n",
       "<style scoped>\n",
       "    .dataframe tbody tr th:only-of-type {\n",
       "        vertical-align: middle;\n",
       "    }\n",
       "\n",
       "    .dataframe tbody tr th {\n",
       "        vertical-align: top;\n",
       "    }\n",
       "\n",
       "    .dataframe thead th {\n",
       "        text-align: right;\n",
       "    }\n",
       "</style>\n",
       "<table border=\"1\" class=\"dataframe\">\n",
       "  <thead>\n",
       "    <tr style=\"text-align: right;\">\n",
       "      <th></th>\n",
       "      <th>App</th>\n",
       "      <th>sentiment_polarity_score</th>\n",
       "      <th>sentiment_polarity_category</th>\n",
       "    </tr>\n",
       "  </thead>\n",
       "  <tbody>\n",
       "    <tr>\n",
       "      <th>846</th>\n",
       "      <td>HomeWork</td>\n",
       "      <td>1.000000</td>\n",
       "      <td>Very Positive</td>\n",
       "    </tr>\n",
       "    <tr>\n",
       "      <th>756</th>\n",
       "      <td>Google Slides</td>\n",
       "      <td>0.933333</td>\n",
       "      <td>Very Positive</td>\n",
       "    </tr>\n",
       "    <tr>\n",
       "      <th>435</th>\n",
       "      <td>Daily Workouts - Exercise Fitness Routine Trainer</td>\n",
       "      <td>0.800000</td>\n",
       "      <td>Very Positive</td>\n",
       "    </tr>\n",
       "    <tr>\n",
       "      <th>218</th>\n",
       "      <td>Bed Time Fan - White Noise Sleep Sounds</td>\n",
       "      <td>0.781250</td>\n",
       "      <td>Very Positive</td>\n",
       "    </tr>\n",
       "    <tr>\n",
       "      <th>330</th>\n",
       "      <td>Cameringo Lite. Filters Camera</td>\n",
       "      <td>0.770269</td>\n",
       "      <td>Very Positive</td>\n",
       "    </tr>\n",
       "    <tr>\n",
       "      <th>755</th>\n",
       "      <td>Google Primer</td>\n",
       "      <td>0.750000</td>\n",
       "      <td>Very Positive</td>\n",
       "    </tr>\n",
       "    <tr>\n",
       "      <th>700</th>\n",
       "      <td>GPS Map Free</td>\n",
       "      <td>0.700000</td>\n",
       "      <td>Very Positive</td>\n",
       "    </tr>\n",
       "    <tr>\n",
       "      <th>701</th>\n",
       "      <td>GPS Speedometer and Odometer</td>\n",
       "      <td>0.687500</td>\n",
       "      <td>Very Positive</td>\n",
       "    </tr>\n",
       "    <tr>\n",
       "      <th>221</th>\n",
       "      <td>Best Ovulation Tracker Fertility Calendar App ...</td>\n",
       "      <td>0.595313</td>\n",
       "      <td>Positive</td>\n",
       "    </tr>\n",
       "    <tr>\n",
       "      <th>13</th>\n",
       "      <td>3D Live Neon Weed Launcher</td>\n",
       "      <td>0.568182</td>\n",
       "      <td>Positive</td>\n",
       "    </tr>\n",
       "    <tr>\n",
       "      <th>393</th>\n",
       "      <td>Cookbook Recipes</td>\n",
       "      <td>0.565437</td>\n",
       "      <td>Positive</td>\n",
       "    </tr>\n",
       "    <tr>\n",
       "      <th>299</th>\n",
       "      <td>CM Flashlight (Compass, SOS)</td>\n",
       "      <td>0.556250</td>\n",
       "      <td>Positive</td>\n",
       "    </tr>\n",
       "    <tr>\n",
       "      <th>262</th>\n",
       "      <td>Brasileirão Pro 2018 - Série A e B</td>\n",
       "      <td>0.550872</td>\n",
       "      <td>Positive</td>\n",
       "    </tr>\n",
       "    <tr>\n",
       "      <th>734</th>\n",
       "      <td>Goldstar: Live Event Tickets</td>\n",
       "      <td>0.549266</td>\n",
       "      <td>Positive</td>\n",
       "    </tr>\n",
       "    <tr>\n",
       "      <th>836</th>\n",
       "      <td>Hipmunk Hotels &amp; Flights</td>\n",
       "      <td>0.546302</td>\n",
       "      <td>Positive</td>\n",
       "    </tr>\n",
       "    <tr>\n",
       "      <th>23</th>\n",
       "      <td>850 Sports News Digest</td>\n",
       "      <td>0.542860</td>\n",
       "      <td>Positive</td>\n",
       "    </tr>\n",
       "    <tr>\n",
       "      <th>289</th>\n",
       "      <td>C++ Tutorials</td>\n",
       "      <td>0.530926</td>\n",
       "      <td>Positive</td>\n",
       "    </tr>\n",
       "    <tr>\n",
       "      <th>812</th>\n",
       "      <td>Haystack TV: Local &amp; World News - Free</td>\n",
       "      <td>0.529500</td>\n",
       "      <td>Positive</td>\n",
       "    </tr>\n",
       "    <tr>\n",
       "      <th>86</th>\n",
       "      <td>All Football GO- Live Score, Games</td>\n",
       "      <td>0.526515</td>\n",
       "      <td>Positive</td>\n",
       "    </tr>\n",
       "    <tr>\n",
       "      <th>844</th>\n",
       "      <td>Home Workout for Men - Bodybuilding</td>\n",
       "      <td>0.523450</td>\n",
       "      <td>Positive</td>\n",
       "    </tr>\n",
       "    <tr>\n",
       "      <th>50</th>\n",
       "      <td>ASUS Sound Recorder</td>\n",
       "      <td>0.516771</td>\n",
       "      <td>Positive</td>\n",
       "    </tr>\n",
       "    <tr>\n",
       "      <th>483</th>\n",
       "      <td>Door Lock Screen</td>\n",
       "      <td>0.516622</td>\n",
       "      <td>Positive</td>\n",
       "    </tr>\n",
       "    <tr>\n",
       "      <th>156</th>\n",
       "      <td>BBVA Spain</td>\n",
       "      <td>0.515086</td>\n",
       "      <td>Positive</td>\n",
       "    </tr>\n",
       "    <tr>\n",
       "      <th>733</th>\n",
       "      <td>Golden Launcher</td>\n",
       "      <td>0.507079</td>\n",
       "      <td>Positive</td>\n",
       "    </tr>\n",
       "    <tr>\n",
       "      <th>544</th>\n",
       "      <td>Eve Period Tracker - Love, Sex &amp; Relationships...</td>\n",
       "      <td>0.505037</td>\n",
       "      <td>Positive</td>\n",
       "    </tr>\n",
       "    <tr>\n",
       "      <th>84</th>\n",
       "      <td>All Events in City</td>\n",
       "      <td>0.502860</td>\n",
       "      <td>Positive</td>\n",
       "    </tr>\n",
       "    <tr>\n",
       "      <th>387</th>\n",
       "      <td>Comptia A+ 220-901 &amp; 220-902</td>\n",
       "      <td>0.500792</td>\n",
       "      <td>Positive</td>\n",
       "    </tr>\n",
       "    <tr>\n",
       "      <th>93</th>\n",
       "      <td>All-in-One Mahjong 3 FREE</td>\n",
       "      <td>0.500000</td>\n",
       "      <td>Positive</td>\n",
       "    </tr>\n",
       "    <tr>\n",
       "      <th>415</th>\n",
       "      <td>Curso de Ingles Gratis</td>\n",
       "      <td>0.499902</td>\n",
       "      <td>Positive</td>\n",
       "    </tr>\n",
       "    <tr>\n",
       "      <th>264</th>\n",
       "      <td>Brightest Flashlight Free ®</td>\n",
       "      <td>0.492571</td>\n",
       "      <td>Positive</td>\n",
       "    </tr>\n",
       "    <tr>\n",
       "      <th>...</th>\n",
       "      <td>...</td>\n",
       "      <td>...</td>\n",
       "      <td>...</td>\n",
       "    </tr>\n",
       "    <tr>\n",
       "      <th>464</th>\n",
       "      <td>Dil Mil</td>\n",
       "      <td>-0.063482</td>\n",
       "      <td>Negatve</td>\n",
       "    </tr>\n",
       "    <tr>\n",
       "      <th>437</th>\n",
       "      <td>Dailyhunt (Newshunt) - Latest News, Viral Videos</td>\n",
       "      <td>-0.066146</td>\n",
       "      <td>Negatve</td>\n",
       "    </tr>\n",
       "    <tr>\n",
       "      <th>825</th>\n",
       "      <td>Hide App, Private Dating, Safe Chat - PrivacyH...</td>\n",
       "      <td>-0.069640</td>\n",
       "      <td>Negatve</td>\n",
       "    </tr>\n",
       "    <tr>\n",
       "      <th>190</th>\n",
       "      <td>Bancomer móvil</td>\n",
       "      <td>-0.071853</td>\n",
       "      <td>Negatve</td>\n",
       "    </tr>\n",
       "    <tr>\n",
       "      <th>369</th>\n",
       "      <td>Claro</td>\n",
       "      <td>-0.072082</td>\n",
       "      <td>Negatve</td>\n",
       "    </tr>\n",
       "    <tr>\n",
       "      <th>552</th>\n",
       "      <td>Extreme Car Driving Simulator</td>\n",
       "      <td>-0.073611</td>\n",
       "      <td>Negatve</td>\n",
       "    </tr>\n",
       "    <tr>\n",
       "      <th>103</th>\n",
       "      <td>American Airlines</td>\n",
       "      <td>-0.075636</td>\n",
       "      <td>Negatve</td>\n",
       "    </tr>\n",
       "    <tr>\n",
       "      <th>738</th>\n",
       "      <td>GolfLogix GPS + Putt Breaks</td>\n",
       "      <td>-0.078432</td>\n",
       "      <td>Negatve</td>\n",
       "    </tr>\n",
       "    <tr>\n",
       "      <th>449</th>\n",
       "      <td>Delta Dental</td>\n",
       "      <td>-0.084185</td>\n",
       "      <td>Negatve</td>\n",
       "    </tr>\n",
       "    <tr>\n",
       "      <th>57</th>\n",
       "      <td>Account Manager</td>\n",
       "      <td>-0.087635</td>\n",
       "      <td>Negatve</td>\n",
       "    </tr>\n",
       "    <tr>\n",
       "      <th>120</th>\n",
       "      <td>Anthem Anywhere</td>\n",
       "      <td>-0.087977</td>\n",
       "      <td>Negatve</td>\n",
       "    </tr>\n",
       "    <tr>\n",
       "      <th>290</th>\n",
       "      <td>CAIXA</td>\n",
       "      <td>-0.089015</td>\n",
       "      <td>Negatve</td>\n",
       "    </tr>\n",
       "    <tr>\n",
       "      <th>333</th>\n",
       "      <td>Candy Crush Jelly Saga</td>\n",
       "      <td>-0.092334</td>\n",
       "      <td>Negatve</td>\n",
       "    </tr>\n",
       "    <tr>\n",
       "      <th>489</th>\n",
       "      <td>Dr. Panda Restaurant 3</td>\n",
       "      <td>-0.097468</td>\n",
       "      <td>Negatve</td>\n",
       "    </tr>\n",
       "    <tr>\n",
       "      <th>209</th>\n",
       "      <td>Be A Legend: Soccer</td>\n",
       "      <td>-0.099251</td>\n",
       "      <td>Negatve</td>\n",
       "    </tr>\n",
       "    <tr>\n",
       "      <th>665</th>\n",
       "      <td>Free Live Talk-Video Call</td>\n",
       "      <td>-0.100000</td>\n",
       "      <td>Negatve</td>\n",
       "    </tr>\n",
       "    <tr>\n",
       "      <th>445</th>\n",
       "      <td>Davis's Drug Guide</td>\n",
       "      <td>-0.100000</td>\n",
       "      <td>Negatve</td>\n",
       "    </tr>\n",
       "    <tr>\n",
       "      <th>72</th>\n",
       "      <td>AirAsia</td>\n",
       "      <td>-0.103606</td>\n",
       "      <td>Negatve</td>\n",
       "    </tr>\n",
       "    <tr>\n",
       "      <th>90</th>\n",
       "      <td>All Social Networks</td>\n",
       "      <td>-0.106410</td>\n",
       "      <td>Negatve</td>\n",
       "    </tr>\n",
       "    <tr>\n",
       "      <th>121</th>\n",
       "      <td>Anthem BC Anywhere</td>\n",
       "      <td>-0.123233</td>\n",
       "      <td>Negatve</td>\n",
       "    </tr>\n",
       "    <tr>\n",
       "      <th>219</th>\n",
       "      <td>Best Car Wallpapers</td>\n",
       "      <td>-0.133333</td>\n",
       "      <td>Negatve</td>\n",
       "    </tr>\n",
       "    <tr>\n",
       "      <th>494</th>\n",
       "      <td>Draw In</td>\n",
       "      <td>-0.134167</td>\n",
       "      <td>Negatve</td>\n",
       "    </tr>\n",
       "    <tr>\n",
       "      <th>837</th>\n",
       "      <td>Hitwe - meet people and chat</td>\n",
       "      <td>-0.139456</td>\n",
       "      <td>Negatve</td>\n",
       "    </tr>\n",
       "    <tr>\n",
       "      <th>769</th>\n",
       "      <td>Guns of Glory</td>\n",
       "      <td>-0.142060</td>\n",
       "      <td>Negatve</td>\n",
       "    </tr>\n",
       "    <tr>\n",
       "      <th>493</th>\n",
       "      <td>Draw A Stickman</td>\n",
       "      <td>-0.150000</td>\n",
       "      <td>Negatve</td>\n",
       "    </tr>\n",
       "    <tr>\n",
       "      <th>319</th>\n",
       "      <td>Call of Duty:Black Ops Zombies</td>\n",
       "      <td>-0.162120</td>\n",
       "      <td>Negatve</td>\n",
       "    </tr>\n",
       "    <tr>\n",
       "      <th>679</th>\n",
       "      <td>Fruit Block - Puzzle Legend</td>\n",
       "      <td>-0.183333</td>\n",
       "      <td>Negatve</td>\n",
       "    </tr>\n",
       "    <tr>\n",
       "      <th>424</th>\n",
       "      <td>DEER HUNTER 2018</td>\n",
       "      <td>-0.383333</td>\n",
       "      <td>Very Negative</td>\n",
       "    </tr>\n",
       "    <tr>\n",
       "      <th>757</th>\n",
       "      <td>Google Street View</td>\n",
       "      <td>-0.500000</td>\n",
       "      <td>Very Negative</td>\n",
       "    </tr>\n",
       "    <tr>\n",
       "      <th>495</th>\n",
       "      <td>Draw Your Game</td>\n",
       "      <td>-0.668490</td>\n",
       "      <td>Very Negative</td>\n",
       "    </tr>\n",
       "  </tbody>\n",
       "</table>\n",
       "<p>865 rows × 3 columns</p>\n",
       "</div>"
      ],
      "text/plain": [
       "                                                   App  \\\n",
       "846                                           HomeWork   \n",
       "756                                      Google Slides   \n",
       "435  Daily Workouts - Exercise Fitness Routine Trainer   \n",
       "218            Bed Time Fan - White Noise Sleep Sounds   \n",
       "330                     Cameringo Lite. Filters Camera   \n",
       "755                                      Google Primer   \n",
       "700                                       GPS Map Free   \n",
       "701                       GPS Speedometer and Odometer   \n",
       "221  Best Ovulation Tracker Fertility Calendar App ...   \n",
       "13                          3D Live Neon Weed Launcher   \n",
       "393                                   Cookbook Recipes   \n",
       "299                       CM Flashlight (Compass, SOS)   \n",
       "262                 Brasileirão Pro 2018 - Série A e B   \n",
       "734                       Goldstar: Live Event Tickets   \n",
       "836                           Hipmunk Hotels & Flights   \n",
       "23                              850 Sports News Digest   \n",
       "289                                      C++ Tutorials   \n",
       "812             Haystack TV: Local & World News - Free   \n",
       "86                  All Football GO- Live Score, Games   \n",
       "844                Home Workout for Men - Bodybuilding   \n",
       "50                                 ASUS Sound Recorder   \n",
       "483                                   Door Lock Screen   \n",
       "156                                         BBVA Spain   \n",
       "733                                    Golden Launcher   \n",
       "544  Eve Period Tracker - Love, Sex & Relationships...   \n",
       "84                                  All Events in City   \n",
       "387                       Comptia A+ 220-901 & 220-902   \n",
       "93                           All-in-One Mahjong 3 FREE   \n",
       "415                             Curso de Ingles Gratis   \n",
       "264                        Brightest Flashlight Free ®   \n",
       "..                                                 ...   \n",
       "464                                            Dil Mil   \n",
       "437   Dailyhunt (Newshunt) - Latest News, Viral Videos   \n",
       "825  Hide App, Private Dating, Safe Chat - PrivacyH...   \n",
       "190                                     Bancomer móvil   \n",
       "369                                              Claro   \n",
       "552                      Extreme Car Driving Simulator   \n",
       "103                                  American Airlines   \n",
       "738                        GolfLogix GPS + Putt Breaks   \n",
       "449                                       Delta Dental   \n",
       "57                                     Account Manager   \n",
       "120                                    Anthem Anywhere   \n",
       "290                                              CAIXA   \n",
       "333                             Candy Crush Jelly Saga   \n",
       "489                             Dr. Panda Restaurant 3   \n",
       "209                                Be A Legend: Soccer   \n",
       "665                          Free Live Talk-Video Call   \n",
       "445                                 Davis's Drug Guide   \n",
       "72                                             AirAsia   \n",
       "90                                 All Social Networks   \n",
       "121                                 Anthem BC Anywhere   \n",
       "219                                Best Car Wallpapers   \n",
       "494                                            Draw In   \n",
       "837                       Hitwe - meet people and chat   \n",
       "769                                      Guns of Glory   \n",
       "493                                    Draw A Stickman   \n",
       "319                     Call of Duty:Black Ops Zombies   \n",
       "679                        Fruit Block - Puzzle Legend   \n",
       "424                                   DEER HUNTER 2018   \n",
       "757                                 Google Street View   \n",
       "495                                     Draw Your Game   \n",
       "\n",
       "     sentiment_polarity_score sentiment_polarity_category  \n",
       "846                  1.000000               Very Positive  \n",
       "756                  0.933333               Very Positive  \n",
       "435                  0.800000               Very Positive  \n",
       "218                  0.781250               Very Positive  \n",
       "330                  0.770269               Very Positive  \n",
       "755                  0.750000               Very Positive  \n",
       "700                  0.700000               Very Positive  \n",
       "701                  0.687500               Very Positive  \n",
       "221                  0.595313                    Positive  \n",
       "13                   0.568182                    Positive  \n",
       "393                  0.565437                    Positive  \n",
       "299                  0.556250                    Positive  \n",
       "262                  0.550872                    Positive  \n",
       "734                  0.549266                    Positive  \n",
       "836                  0.546302                    Positive  \n",
       "23                   0.542860                    Positive  \n",
       "289                  0.530926                    Positive  \n",
       "812                  0.529500                    Positive  \n",
       "86                   0.526515                    Positive  \n",
       "844                  0.523450                    Positive  \n",
       "50                   0.516771                    Positive  \n",
       "483                  0.516622                    Positive  \n",
       "156                  0.515086                    Positive  \n",
       "733                  0.507079                    Positive  \n",
       "544                  0.505037                    Positive  \n",
       "84                   0.502860                    Positive  \n",
       "387                  0.500792                    Positive  \n",
       "93                   0.500000                    Positive  \n",
       "415                  0.499902                    Positive  \n",
       "264                  0.492571                    Positive  \n",
       "..                        ...                         ...  \n",
       "464                 -0.063482                     Negatve  \n",
       "437                 -0.066146                     Negatve  \n",
       "825                 -0.069640                     Negatve  \n",
       "190                 -0.071853                     Negatve  \n",
       "369                 -0.072082                     Negatve  \n",
       "552                 -0.073611                     Negatve  \n",
       "103                 -0.075636                     Negatve  \n",
       "738                 -0.078432                     Negatve  \n",
       "449                 -0.084185                     Negatve  \n",
       "57                  -0.087635                     Negatve  \n",
       "120                 -0.087977                     Negatve  \n",
       "290                 -0.089015                     Negatve  \n",
       "333                 -0.092334                     Negatve  \n",
       "489                 -0.097468                     Negatve  \n",
       "209                 -0.099251                     Negatve  \n",
       "665                 -0.100000                     Negatve  \n",
       "445                 -0.100000                     Negatve  \n",
       "72                  -0.103606                     Negatve  \n",
       "90                  -0.106410                     Negatve  \n",
       "121                 -0.123233                     Negatve  \n",
       "219                 -0.133333                     Negatve  \n",
       "494                 -0.134167                     Negatve  \n",
       "837                 -0.139456                     Negatve  \n",
       "769                 -0.142060                     Negatve  \n",
       "493                 -0.150000                     Negatve  \n",
       "319                 -0.162120                     Negatve  \n",
       "679                 -0.183333                     Negatve  \n",
       "424                 -0.383333               Very Negative  \n",
       "757                 -0.500000               Very Negative  \n",
       "495                 -0.668490               Very Negative  \n",
       "\n",
       "[865 rows x 3 columns]"
      ]
     },
     "execution_count": 22,
     "metadata": {},
     "output_type": "execute_result"
    }
   ],
   "source": [
    "#Generating bins for sentiment polarity score\n",
    "sentiment_catergories = pd.cut(apps_avg_polarity_scores['sentiment_polarity_score'],5, precision=4, labels=['Very Negative',\"Negatve\",'Neutral','Positive',\"Very Positive\"])\n",
    "apps_avg_polarity['sentiment_polarity_category'] =  sentiment_catergories\n",
    "apps_avg_polarity"
   ]
  },
  {
   "cell_type": "markdown",
   "metadata": {},
   "source": [
    "We continue this process for all other variables."
   ]
  },
  {
   "cell_type": "code",
   "execution_count": 23,
   "metadata": {},
   "outputs": [],
   "source": [
    "#Determine overall reveiws spelling quality score\n",
    "apps_avg_spelling_scores = df2.copy()\n",
    "apps_avg_spelling_scores = apps_avg_spelling_scores.groupby('App').mean()\n",
    "apps_avg_spelling_scores = apps_avg_spelling_scores['spelling_quality_score'].reset_index().sort_values('spelling_quality_score', ascending=False)"
   ]
  },
  {
   "cell_type": "code",
   "execution_count": 24,
   "metadata": {},
   "outputs": [
    {
     "data": {
      "text/html": [
       "<div>\n",
       "<style scoped>\n",
       "    .dataframe tbody tr th:only-of-type {\n",
       "        vertical-align: middle;\n",
       "    }\n",
       "\n",
       "    .dataframe tbody tr th {\n",
       "        vertical-align: top;\n",
       "    }\n",
       "\n",
       "    .dataframe thead th {\n",
       "        text-align: right;\n",
       "    }\n",
       "</style>\n",
       "<table border=\"1\" class=\"dataframe\">\n",
       "  <thead>\n",
       "    <tr style=\"text-align: right;\">\n",
       "      <th></th>\n",
       "      <th>App</th>\n",
       "      <th>spelling_quality_score</th>\n",
       "      <th>spelling_category</th>\n",
       "    </tr>\n",
       "  </thead>\n",
       "  <tbody>\n",
       "    <tr>\n",
       "      <th>293</th>\n",
       "      <td>CBS News</td>\n",
       "      <td>1.0</td>\n",
       "      <td>Good</td>\n",
       "    </tr>\n",
       "    <tr>\n",
       "      <th>123</th>\n",
       "      <td>Apartment Decorating Ideas</td>\n",
       "      <td>1.0</td>\n",
       "      <td>Good</td>\n",
       "    </tr>\n",
       "    <tr>\n",
       "      <th>846</th>\n",
       "      <td>HomeWork</td>\n",
       "      <td>1.0</td>\n",
       "      <td>Good</td>\n",
       "    </tr>\n",
       "    <tr>\n",
       "      <th>93</th>\n",
       "      <td>All-in-One Mahjong 3 FREE</td>\n",
       "      <td>1.0</td>\n",
       "      <td>Good</td>\n",
       "    </tr>\n",
       "    <tr>\n",
       "      <th>94</th>\n",
       "      <td>Allegiant</td>\n",
       "      <td>1.0</td>\n",
       "      <td>Good</td>\n",
       "    </tr>\n",
       "  </tbody>\n",
       "</table>\n",
       "</div>"
      ],
      "text/plain": [
       "                            App  spelling_quality_score spelling_category\n",
       "293                    CBS News                     1.0              Good\n",
       "123  Apartment Decorating Ideas                     1.0              Good\n",
       "846                    HomeWork                     1.0              Good\n",
       "93    All-in-One Mahjong 3 FREE                     1.0              Good\n",
       "94                    Allegiant                     1.0              Good"
      ]
     },
     "execution_count": 24,
     "metadata": {},
     "output_type": "execute_result"
    }
   ],
   "source": [
    "#Create and attach bins for apps spelling scores\n",
    "spelling_catergories = pd.cut(apps_avg_spelling_scores['spelling_quality_score'],3, precision=3, labels=[\"Bad\",\"Medium\",\"Good\"])\n",
    "apps_avg_spelling_scores['spelling_category'] =  spelling_catergories\n",
    "apps_avg_spelling_scores.head(5)"
   ]
  },
  {
   "cell_type": "code",
   "execution_count": 25,
   "metadata": {},
   "outputs": [],
   "source": [
    "#Determine apps subjectivity scores\n",
    "apps_avg_subjectivity_scores = df2.copy()\n",
    "apps_avg_subjectivity_scores=apps_avg_subjectivity_scores.groupby('App').mean()\n",
    "apps_avg_subjectivity_scores = apps_avg_subjectivity_scores['sentiment_subjectivity_score'].reset_index().sort_values('sentiment_subjectivity_score',\n",
    "                                                                                                                      ascending=False)"
   ]
  },
  {
   "cell_type": "code",
   "execution_count": 16,
   "metadata": {},
   "outputs": [
    {
     "data": {
      "text/html": [
       "<div>\n",
       "<style scoped>\n",
       "    .dataframe tbody tr th:only-of-type {\n",
       "        vertical-align: middle;\n",
       "    }\n",
       "\n",
       "    .dataframe tbody tr th {\n",
       "        vertical-align: top;\n",
       "    }\n",
       "\n",
       "    .dataframe thead th {\n",
       "        text-align: right;\n",
       "    }\n",
       "</style>\n",
       "<table border=\"1\" class=\"dataframe\">\n",
       "  <thead>\n",
       "    <tr style=\"text-align: right;\">\n",
       "      <th></th>\n",
       "      <th>App</th>\n",
       "      <th>sentiment_subjectivity_score</th>\n",
       "      <th>subjectivity_category</th>\n",
       "    </tr>\n",
       "  </thead>\n",
       "  <tbody>\n",
       "    <tr>\n",
       "      <th>756</th>\n",
       "      <td>Google Slides</td>\n",
       "      <td>0.916667</td>\n",
       "      <td>Very Subjective</td>\n",
       "    </tr>\n",
       "    <tr>\n",
       "      <th>435</th>\n",
       "      <td>Daily Workouts - Exercise Fitness Routine Trainer</td>\n",
       "      <td>0.750000</td>\n",
       "      <td>Subjective</td>\n",
       "    </tr>\n",
       "    <tr>\n",
       "      <th>357</th>\n",
       "      <td>Choice Hotels</td>\n",
       "      <td>0.719206</td>\n",
       "      <td>Subjective</td>\n",
       "    </tr>\n",
       "    <tr>\n",
       "      <th>787</th>\n",
       "      <td>HTC Calendar</td>\n",
       "      <td>0.694949</td>\n",
       "      <td>Subjective</td>\n",
       "    </tr>\n",
       "    <tr>\n",
       "      <th>837</th>\n",
       "      <td>Hitwe - meet people and chat</td>\n",
       "      <td>0.694105</td>\n",
       "      <td>Subjective</td>\n",
       "    </tr>\n",
       "  </tbody>\n",
       "</table>\n",
       "</div>"
      ],
      "text/plain": [
       "                                                   App  \\\n",
       "756                                      Google Slides   \n",
       "435  Daily Workouts - Exercise Fitness Routine Trainer   \n",
       "357                                      Choice Hotels   \n",
       "787                                       HTC Calendar   \n",
       "837                       Hitwe - meet people and chat   \n",
       "\n",
       "     sentiment_subjectivity_score subjectivity_category  \n",
       "756                      0.916667       Very Subjective  \n",
       "435                      0.750000            Subjective  \n",
       "357                      0.719206            Subjective  \n",
       "787                      0.694949            Subjective  \n",
       "837                      0.694105            Subjective  "
      ]
     },
     "execution_count": 16,
     "metadata": {},
     "output_type": "execute_result"
    }
   ],
   "source": [
    "#Generate apps subjectivity_catergories\n",
    "#For sentiment subjectivity score we set the bins ourselves due to account for jumps in the data. \n",
    "subjectivity_catergories = pd.cut(apps_avg_subjectivity_scores['sentiment_subjectivity_score'], bins=[0,0.2,0.4,0.6,0.8,1], include_lowest=True, labels=['Very Objective',\"Objective\",'Objective/Subjective','Subjective',\"Very Subjective\"])\n",
    "apps_avg_subjectivity_scores['subjectivity_category'] =  subjectivity_catergories\n",
    "apps_avg_subjectivity_scores.head(5)"
   ]
  },
  {
   "cell_type": "code",
   "execution_count": 26,
   "metadata": {},
   "outputs": [],
   "source": [
    "#Determine mean grammer scores\n",
    "apps_avg_grammer_scores = df2.copy()\n",
    "apps_avg_grammer_scores = apps_avg_grammer_scores.groupby('App').mean()\n",
    "apps_avg_grammer_scores = apps_avg_grammer_scores['grammar_check_score'].reset_index().sort_values('grammar_check_score', ascending=False)"
   ]
  },
  {
   "cell_type": "code",
   "execution_count": 27,
   "metadata": {},
   "outputs": [
    {
     "data": {
      "text/html": [
       "<div>\n",
       "<style scoped>\n",
       "    .dataframe tbody tr th:only-of-type {\n",
       "        vertical-align: middle;\n",
       "    }\n",
       "\n",
       "    .dataframe tbody tr th {\n",
       "        vertical-align: top;\n",
       "    }\n",
       "\n",
       "    .dataframe thead th {\n",
       "        text-align: right;\n",
       "    }\n",
       "</style>\n",
       "<table border=\"1\" class=\"dataframe\">\n",
       "  <thead>\n",
       "    <tr style=\"text-align: right;\">\n",
       "      <th></th>\n",
       "      <th>App</th>\n",
       "      <th>grammar_check_score</th>\n",
       "      <th>grammar_categories</th>\n",
       "    </tr>\n",
       "  </thead>\n",
       "  <tbody>\n",
       "    <tr>\n",
       "      <th>211</th>\n",
       "      <td>BeWild Free Dating &amp; Chat App</td>\n",
       "      <td>4.789474</td>\n",
       "      <td>Very Good</td>\n",
       "    </tr>\n",
       "    <tr>\n",
       "      <th>862</th>\n",
       "      <td>Hotstar</td>\n",
       "      <td>4.531250</td>\n",
       "      <td>Very Good</td>\n",
       "    </tr>\n",
       "    <tr>\n",
       "      <th>404</th>\n",
       "      <td>Couple - Relationship App</td>\n",
       "      <td>4.086957</td>\n",
       "      <td>Very Good</td>\n",
       "    </tr>\n",
       "    <tr>\n",
       "      <th>437</th>\n",
       "      <td>Dailyhunt (Newshunt) - Latest News, Viral Videos</td>\n",
       "      <td>4.000000</td>\n",
       "      <td>Good</td>\n",
       "    </tr>\n",
       "    <tr>\n",
       "      <th>312</th>\n",
       "      <td>Calculator - unit converter</td>\n",
       "      <td>4.000000</td>\n",
       "      <td>Good</td>\n",
       "    </tr>\n",
       "  </tbody>\n",
       "</table>\n",
       "</div>"
      ],
      "text/plain": [
       "                                                  App  grammar_check_score  \\\n",
       "211                     BeWild Free Dating & Chat App             4.789474   \n",
       "862                                           Hotstar             4.531250   \n",
       "404                         Couple - Relationship App             4.086957   \n",
       "437  Dailyhunt (Newshunt) - Latest News, Viral Videos             4.000000   \n",
       "312                       Calculator - unit converter             4.000000   \n",
       "\n",
       "    grammar_categories  \n",
       "211          Very Good  \n",
       "862          Very Good  \n",
       "404          Very Good  \n",
       "437               Good  \n",
       "312               Good  "
      ]
     },
     "execution_count": 27,
     "metadata": {},
     "output_type": "execute_result"
    }
   ],
   "source": [
    "#Generate grammer categories \n",
    "Grammer_catergories = pd.cut(apps_avg_grammer_scores['grammar_check_score'],\n",
    "                             bins=[0,1,2,3,4,5], include_lowest=True, \n",
    "                             labels=['Very Poor',\"Poor\",'Medium','Good',\"Very Good\"])\n",
    "apps_avg_grammer_scores['grammar_categories'] =  Grammer_catergories\n",
    "apps_avg_grammer_scores.head(5)"
   ]
  },
  {
   "cell_type": "code",
   "execution_count": 28,
   "metadata": {},
   "outputs": [
    {
     "data": {
      "text/html": [
       "<div>\n",
       "<style scoped>\n",
       "    .dataframe tbody tr th:only-of-type {\n",
       "        vertical-align: middle;\n",
       "    }\n",
       "\n",
       "    .dataframe tbody tr th {\n",
       "        vertical-align: top;\n",
       "    }\n",
       "\n",
       "    .dataframe thead th {\n",
       "        text-align: right;\n",
       "    }\n",
       "</style>\n",
       "<table border=\"1\" class=\"dataframe\">\n",
       "  <thead>\n",
       "    <tr style=\"text-align: right;\">\n",
       "      <th></th>\n",
       "      <th>App</th>\n",
       "      <th>spelling_quality_score</th>\n",
       "      <th>spelling_category</th>\n",
       "      <th>sentiment_polarity_score</th>\n",
       "      <th>sentiment_polarity_category</th>\n",
       "      <th>sentiment_subjectivity_score</th>\n",
       "      <th>grammar_check_score</th>\n",
       "      <th>grammar_categories</th>\n",
       "    </tr>\n",
       "  </thead>\n",
       "  <tbody>\n",
       "    <tr>\n",
       "      <th>0</th>\n",
       "      <td>CBS News</td>\n",
       "      <td>1.0</td>\n",
       "      <td>Good</td>\n",
       "      <td>0.00</td>\n",
       "      <td>Neutral</td>\n",
       "      <td>0.00</td>\n",
       "      <td>1.0</td>\n",
       "      <td>Very Poor</td>\n",
       "    </tr>\n",
       "    <tr>\n",
       "      <th>1</th>\n",
       "      <td>Apartment Decorating Ideas</td>\n",
       "      <td>1.0</td>\n",
       "      <td>Good</td>\n",
       "      <td>0.24</td>\n",
       "      <td>Neutral</td>\n",
       "      <td>0.20</td>\n",
       "      <td>0.0</td>\n",
       "      <td>Very Poor</td>\n",
       "    </tr>\n",
       "    <tr>\n",
       "      <th>2</th>\n",
       "      <td>HomeWork</td>\n",
       "      <td>1.0</td>\n",
       "      <td>Good</td>\n",
       "      <td>1.00</td>\n",
       "      <td>Very Positive</td>\n",
       "      <td>0.30</td>\n",
       "      <td>0.0</td>\n",
       "      <td>Very Poor</td>\n",
       "    </tr>\n",
       "    <tr>\n",
       "      <th>3</th>\n",
       "      <td>All-in-One Mahjong 3 FREE</td>\n",
       "      <td>1.0</td>\n",
       "      <td>Good</td>\n",
       "      <td>0.50</td>\n",
       "      <td>Positive</td>\n",
       "      <td>0.60</td>\n",
       "      <td>0.0</td>\n",
       "      <td>Very Poor</td>\n",
       "    </tr>\n",
       "    <tr>\n",
       "      <th>4</th>\n",
       "      <td>Allegiant</td>\n",
       "      <td>1.0</td>\n",
       "      <td>Good</td>\n",
       "      <td>0.23</td>\n",
       "      <td>Neutral</td>\n",
       "      <td>0.23</td>\n",
       "      <td>0.0</td>\n",
       "      <td>Very Poor</td>\n",
       "    </tr>\n",
       "  </tbody>\n",
       "</table>\n",
       "</div>"
      ],
      "text/plain": [
       "                          App  spelling_quality_score spelling_category  \\\n",
       "0                    CBS News                     1.0              Good   \n",
       "1  Apartment Decorating Ideas                     1.0              Good   \n",
       "2                    HomeWork                     1.0              Good   \n",
       "3   All-in-One Mahjong 3 FREE                     1.0              Good   \n",
       "4                   Allegiant                     1.0              Good   \n",
       "\n",
       "   sentiment_polarity_score sentiment_polarity_category  \\\n",
       "0                      0.00                     Neutral   \n",
       "1                      0.24                     Neutral   \n",
       "2                      1.00               Very Positive   \n",
       "3                      0.50                    Positive   \n",
       "4                      0.23                     Neutral   \n",
       "\n",
       "   sentiment_subjectivity_score  grammar_check_score grammar_categories  \n",
       "0                          0.00                  1.0          Very Poor  \n",
       "1                          0.20                  0.0          Very Poor  \n",
       "2                          0.30                  0.0          Very Poor  \n",
       "3                          0.60                  0.0          Very Poor  \n",
       "4                          0.23                  0.0          Very Poor  "
      ]
     },
     "execution_count": 28,
     "metadata": {},
     "output_type": "execute_result"
    }
   ],
   "source": [
    "#Merge all tables\n",
    "merged_tables = pd.merge(left=apps_avg_spelling_scores, right=apps_avg_polarity, on='App',how ='inner')\n",
    "merged_tables = pd.merge(left=merged_tables, right=apps_avg_subjectivity_scores,on='App',how ='inner')\n",
    "merged_tables = pd.merge(left=merged_tables, right=apps_avg_grammer_scores, left_on='App', right_on='App',how ='inner')\n",
    "merged_tables = merged_tables.round(decimals=2)\n",
    "merged_tables.head(5)"
   ]
  },
  {
   "cell_type": "code",
   "execution_count": 29,
   "metadata": {},
   "outputs": [
    {
     "data": {
      "text/plain": [
       "App                             0\n",
       "spelling_quality_score          0\n",
       "spelling_category               0\n",
       "sentiment_polarity_score        0\n",
       "sentiment_polarity_category     0\n",
       "sentiment_subjectivity_score    0\n",
       "grammar_check_score             0\n",
       "grammar_categories              0\n",
       "dtype: int64"
      ]
     },
     "execution_count": 29,
     "metadata": {},
     "output_type": "execute_result"
    }
   ],
   "source": [
    "#Check for duplicate values\n",
    "merged_tables[merged_tables.duplicated()].count()"
   ]
  },
  {
   "cell_type": "markdown",
   "metadata": {},
   "source": [
    "We **'left'** merge the datasets, thus enabling us to keep all the orignal apps in the data set, without loosing those that had not been reveiwed in dataset 2."
   ]
  },
  {
   "cell_type": "code",
   "execution_count": 30,
   "metadata": {
    "scrolled": true
   },
   "outputs": [
    {
     "data": {
      "text/html": [
       "<div>\n",
       "<style scoped>\n",
       "    .dataframe tbody tr th:only-of-type {\n",
       "        vertical-align: middle;\n",
       "    }\n",
       "\n",
       "    .dataframe tbody tr th {\n",
       "        vertical-align: top;\n",
       "    }\n",
       "\n",
       "    .dataframe thead th {\n",
       "        text-align: right;\n",
       "    }\n",
       "</style>\n",
       "<table border=\"1\" class=\"dataframe\">\n",
       "  <thead>\n",
       "    <tr style=\"text-align: right;\">\n",
       "      <th></th>\n",
       "      <th>App</th>\n",
       "      <th>Rating</th>\n",
       "      <th>Reviews</th>\n",
       "      <th>Size</th>\n",
       "      <th>Installs</th>\n",
       "      <th>Price</th>\n",
       "      <th>Content Rating</th>\n",
       "      <th>Last Updated (Year/Month)</th>\n",
       "      <th>Category (categorical)</th>\n",
       "      <th>Type (categorical)</th>\n",
       "      <th>Genres (categorical)</th>\n",
       "      <th>spelling_quality_score</th>\n",
       "      <th>spelling_category</th>\n",
       "      <th>sentiment_polarity_score</th>\n",
       "      <th>sentiment_polarity_category</th>\n",
       "      <th>sentiment_subjectivity_score</th>\n",
       "      <th>grammar_check_score</th>\n",
       "      <th>grammar_categories</th>\n",
       "    </tr>\n",
       "  </thead>\n",
       "  <tbody>\n",
       "    <tr>\n",
       "      <th>0</th>\n",
       "      <td>Photo Editor &amp; Candy Camera &amp; Grid &amp; ScrapBook</td>\n",
       "      <td>4.1</td>\n",
       "      <td>159</td>\n",
       "      <td>19.0</td>\n",
       "      <td>10000.0</td>\n",
       "      <td>0.0</td>\n",
       "      <td>Everyone</td>\n",
       "      <td>80.0</td>\n",
       "      <td>ART_AND_DESIGN</td>\n",
       "      <td>Free</td>\n",
       "      <td>Art &amp; Design</td>\n",
       "      <td>NaN</td>\n",
       "      <td>NaN</td>\n",
       "      <td>NaN</td>\n",
       "      <td>NaN</td>\n",
       "      <td>NaN</td>\n",
       "      <td>NaN</td>\n",
       "      <td>NaN</td>\n",
       "    </tr>\n",
       "    <tr>\n",
       "      <th>1</th>\n",
       "      <td>Coloring book moana</td>\n",
       "      <td>3.9</td>\n",
       "      <td>967</td>\n",
       "      <td>14.0</td>\n",
       "      <td>500000.0</td>\n",
       "      <td>0.0</td>\n",
       "      <td>Everyone</td>\n",
       "      <td>80.0</td>\n",
       "      <td>ART_AND_DESIGN</td>\n",
       "      <td>Free</td>\n",
       "      <td>Art &amp; Design;Pretend Play</td>\n",
       "      <td>0.87</td>\n",
       "      <td>Medium</td>\n",
       "      <td>0.15</td>\n",
       "      <td>Neutral</td>\n",
       "      <td>0.64</td>\n",
       "      <td>0.55</td>\n",
       "      <td>Very Poor</td>\n",
       "    </tr>\n",
       "    <tr>\n",
       "      <th>2</th>\n",
       "      <td>U Launcher Lite – FREE Live Cool Themes, Hide ...</td>\n",
       "      <td>4.7</td>\n",
       "      <td>87510</td>\n",
       "      <td>8.7</td>\n",
       "      <td>5000000.0</td>\n",
       "      <td>0.0</td>\n",
       "      <td>Everyone</td>\n",
       "      <td>87.0</td>\n",
       "      <td>ART_AND_DESIGN</td>\n",
       "      <td>Free</td>\n",
       "      <td>Art &amp; Design</td>\n",
       "      <td>NaN</td>\n",
       "      <td>NaN</td>\n",
       "      <td>NaN</td>\n",
       "      <td>NaN</td>\n",
       "      <td>NaN</td>\n",
       "      <td>NaN</td>\n",
       "      <td>NaN</td>\n",
       "    </tr>\n",
       "  </tbody>\n",
       "</table>\n",
       "</div>"
      ],
      "text/plain": [
       "                                                 App  Rating  Reviews  Size  \\\n",
       "0     Photo Editor & Candy Camera & Grid & ScrapBook     4.1      159  19.0   \n",
       "1                                Coloring book moana     3.9      967  14.0   \n",
       "2  U Launcher Lite – FREE Live Cool Themes, Hide ...     4.7    87510   8.7   \n",
       "\n",
       "    Installs  Price Content Rating  Last Updated (Year/Month)  \\\n",
       "0    10000.0    0.0       Everyone                       80.0   \n",
       "1   500000.0    0.0       Everyone                       80.0   \n",
       "2  5000000.0    0.0       Everyone                       87.0   \n",
       "\n",
       "  Category (categorical) Type (categorical)       Genres (categorical)  \\\n",
       "0         ART_AND_DESIGN               Free               Art & Design   \n",
       "1         ART_AND_DESIGN               Free  Art & Design;Pretend Play   \n",
       "2         ART_AND_DESIGN               Free               Art & Design   \n",
       "\n",
       "   spelling_quality_score spelling_category  sentiment_polarity_score  \\\n",
       "0                     NaN               NaN                       NaN   \n",
       "1                    0.87            Medium                      0.15   \n",
       "2                     NaN               NaN                       NaN   \n",
       "\n",
       "  sentiment_polarity_category  sentiment_subjectivity_score  \\\n",
       "0                         NaN                           NaN   \n",
       "1                     Neutral                          0.64   \n",
       "2                         NaN                           NaN   \n",
       "\n",
       "   grammar_check_score grammar_categories  \n",
       "0                  NaN                NaN  \n",
       "1                 0.55          Very Poor  \n",
       "2                  NaN                NaN  "
      ]
     },
     "execution_count": 30,
     "metadata": {},
     "output_type": "execute_result"
    }
   ],
   "source": [
    "#Merge with dataset 1\n",
    "apps_df_reviews_count_merged = pd.merge(df1, merged_tables, on=['App'], how='left') #Left Merge\n",
    "apps_df_reviews_count_merged.head(3)"
   ]
  },
  {
   "cell_type": "code",
   "execution_count": 31,
   "metadata": {},
   "outputs": [],
   "source": [
    "# Rename some columns for simplicity\n",
    "apps_df_reviews_count_merged.rename({'Category (categorical)': 'Category'}, axis=1, inplace=True) \n",
    "apps_df_reviews_count_merged.rename({'Type (categorical)': 'Type'}, axis=1, inplace=True)\n",
    "apps_df_reviews_count_merged.rename({'Genres (categorical)': 'Genres'}, axis=1, inplace=True)\n",
    "apps_df_reviews_count_merged.rename({'Last Updated (Year/Month)': 'Last Updated'}, axis=1, inplace=True)"
   ]
  },
  {
   "cell_type": "code",
   "execution_count": 33,
   "metadata": {},
   "outputs": [],
   "source": [
    "#create new CSV\n",
    "apps_df_reviews_count_merged.to_csv(f'googleplaystore_merged.csv', index=False)"
   ]
  },
  {
   "cell_type": "markdown",
   "metadata": {},
   "source": [
    "# 3. Exploratory Analysis "
   ]
  },
  {
   "cell_type": "markdown",
   "metadata": {},
   "source": [
    "In this section, we look at the general makeup of the whole dataset. \n",
    "<ol>\n",
    " <li>Variable Correlation</li>\n",
    " <li>Variable Distribution</li>\n",
    " <li>Rating Comparing Analysis</li>\n",
    "</ol>"
   ]
  },
  {
   "cell_type": "code",
   "execution_count": 35,
   "metadata": {
    "scrolled": true
   },
   "outputs": [
    {
     "data": {
      "text/html": [
       "<div>\n",
       "<style scoped>\n",
       "    .dataframe tbody tr th:only-of-type {\n",
       "        vertical-align: middle;\n",
       "    }\n",
       "\n",
       "    .dataframe tbody tr th {\n",
       "        vertical-align: top;\n",
       "    }\n",
       "\n",
       "    .dataframe thead th {\n",
       "        text-align: right;\n",
       "    }\n",
       "</style>\n",
       "<table border=\"1\" class=\"dataframe\">\n",
       "  <thead>\n",
       "    <tr style=\"text-align: right;\">\n",
       "      <th></th>\n",
       "      <th>Rating</th>\n",
       "      <th>Reviews</th>\n",
       "      <th>Size</th>\n",
       "      <th>Installs</th>\n",
       "      <th>Price</th>\n",
       "      <th>Last Updated</th>\n",
       "      <th>spelling_quality_score</th>\n",
       "      <th>sentiment_polarity_score</th>\n",
       "      <th>sentiment_subjectivity_score</th>\n",
       "      <th>grammar_check_score</th>\n",
       "    </tr>\n",
       "  </thead>\n",
       "  <tbody>\n",
       "    <tr>\n",
       "      <th>count</th>\n",
       "      <td>7021.00</td>\n",
       "      <td>7021.00</td>\n",
       "      <td>7021.00</td>\n",
       "      <td>7.021000e+03</td>\n",
       "      <td>7021.00</td>\n",
       "      <td>7021.00</td>\n",
       "      <td>568.00</td>\n",
       "      <td>568.00</td>\n",
       "      <td>568.00</td>\n",
       "      <td>568.00</td>\n",
       "    </tr>\n",
       "    <tr>\n",
       "      <th>mean</th>\n",
       "      <td>4.16</td>\n",
       "      <td>144895.99</td>\n",
       "      <td>21.77</td>\n",
       "      <td>4.471804e+06</td>\n",
       "      <td>1.17</td>\n",
       "      <td>76.88</td>\n",
       "      <td>0.89</td>\n",
       "      <td>0.20</td>\n",
       "      <td>0.49</td>\n",
       "      <td>1.30</td>\n",
       "    </tr>\n",
       "    <tr>\n",
       "      <th>std</th>\n",
       "      <td>0.56</td>\n",
       "      <td>1024427.85</td>\n",
       "      <td>22.73</td>\n",
       "      <td>2.714908e+07</td>\n",
       "      <td>18.21</td>\n",
       "      <td>13.94</td>\n",
       "      <td>0.04</td>\n",
       "      <td>0.16</td>\n",
       "      <td>0.08</td>\n",
       "      <td>0.83</td>\n",
       "    </tr>\n",
       "    <tr>\n",
       "      <th>min</th>\n",
       "      <td>1.00</td>\n",
       "      <td>1.00</td>\n",
       "      <td>0.01</td>\n",
       "      <td>1.000000e+00</td>\n",
       "      <td>0.00</td>\n",
       "      <td>0.00</td>\n",
       "      <td>0.67</td>\n",
       "      <td>-0.38</td>\n",
       "      <td>0.00</td>\n",
       "      <td>0.00</td>\n",
       "    </tr>\n",
       "    <tr>\n",
       "      <th>25%</th>\n",
       "      <td>4.00</td>\n",
       "      <td>84.00</td>\n",
       "      <td>4.90</td>\n",
       "      <td>1.000000e+04</td>\n",
       "      <td>0.00</td>\n",
       "      <td>73.00</td>\n",
       "      <td>0.87</td>\n",
       "      <td>0.09</td>\n",
       "      <td>0.45</td>\n",
       "      <td>0.67</td>\n",
       "    </tr>\n",
       "    <tr>\n",
       "      <th>50%</th>\n",
       "      <td>4.30</td>\n",
       "      <td>1546.00</td>\n",
       "      <td>13.00</td>\n",
       "      <td>1.000000e+05</td>\n",
       "      <td>0.00</td>\n",
       "      <td>83.00</td>\n",
       "      <td>0.90</td>\n",
       "      <td>0.20</td>\n",
       "      <td>0.50</td>\n",
       "      <td>1.12</td>\n",
       "    </tr>\n",
       "    <tr>\n",
       "      <th>75%</th>\n",
       "      <td>4.50</td>\n",
       "      <td>26587.00</td>\n",
       "      <td>31.00</td>\n",
       "      <td>1.000000e+06</td>\n",
       "      <td>0.00</td>\n",
       "      <td>86.00</td>\n",
       "      <td>0.92</td>\n",
       "      <td>0.31</td>\n",
       "      <td>0.54</td>\n",
       "      <td>1.79</td>\n",
       "    </tr>\n",
       "    <tr>\n",
       "      <th>max</th>\n",
       "      <td>5.00</td>\n",
       "      <td>44891723.00</td>\n",
       "      <td>100.00</td>\n",
       "      <td>1.000000e+09</td>\n",
       "      <td>400.00</td>\n",
       "      <td>87.00</td>\n",
       "      <td>1.00</td>\n",
       "      <td>1.00</td>\n",
       "      <td>0.69</td>\n",
       "      <td>4.79</td>\n",
       "    </tr>\n",
       "  </tbody>\n",
       "</table>\n",
       "</div>"
      ],
      "text/plain": [
       "        Rating      Reviews     Size      Installs    Price  Last Updated  \\\n",
       "count  7021.00      7021.00  7021.00  7.021000e+03  7021.00       7021.00   \n",
       "mean      4.16    144895.99    21.77  4.471804e+06     1.17         76.88   \n",
       "std       0.56   1024427.85    22.73  2.714908e+07    18.21         13.94   \n",
       "min       1.00         1.00     0.01  1.000000e+00     0.00          0.00   \n",
       "25%       4.00        84.00     4.90  1.000000e+04     0.00         73.00   \n",
       "50%       4.30      1546.00    13.00  1.000000e+05     0.00         83.00   \n",
       "75%       4.50     26587.00    31.00  1.000000e+06     0.00         86.00   \n",
       "max       5.00  44891723.00   100.00  1.000000e+09   400.00         87.00   \n",
       "\n",
       "       spelling_quality_score  sentiment_polarity_score  \\\n",
       "count                  568.00                    568.00   \n",
       "mean                     0.89                      0.20   \n",
       "std                      0.04                      0.16   \n",
       "min                      0.67                     -0.38   \n",
       "25%                      0.87                      0.09   \n",
       "50%                      0.90                      0.20   \n",
       "75%                      0.92                      0.31   \n",
       "max                      1.00                      1.00   \n",
       "\n",
       "       sentiment_subjectivity_score  grammar_check_score  \n",
       "count                        568.00               568.00  \n",
       "mean                           0.49                 1.30  \n",
       "std                            0.08                 0.83  \n",
       "min                            0.00                 0.00  \n",
       "25%                            0.45                 0.67  \n",
       "50%                            0.50                 1.12  \n",
       "75%                            0.54                 1.79  \n",
       "max                            0.69                 4.79  "
      ]
     },
     "execution_count": 35,
     "metadata": {},
     "output_type": "execute_result"
    }
   ],
   "source": [
    "#Read new dataset\n",
    "dfm = pd.read_csv('googleplaystore_merged.csv')\n",
    "\"Merged Google play store dataset with {0} rows and {1} columns\".format(len(dfm),len(dfm.columns))\n",
    "dfm.head(3)\n",
    "dfm.describe().round(2)"
   ]
  },
  {
   "cell_type": "code",
   "execution_count": 36,
   "metadata": {},
   "outputs": [
    {
     "name": "stdout",
     "output_type": "stream",
     "text": [
      "<class 'pandas.core.frame.DataFrame'>\n",
      "RangeIndex: 7021 entries, 0 to 7020\n",
      "Data columns (total 18 columns):\n",
      "App                             7021 non-null object\n",
      "Rating                          7021 non-null float64\n",
      "Reviews                         7021 non-null int64\n",
      "Size                            7021 non-null float64\n",
      "Installs                        7021 non-null float64\n",
      "Price                           7021 non-null float64\n",
      "Content Rating                  7021 non-null object\n",
      "Last Updated                    7021 non-null float64\n",
      "Category                        7021 non-null object\n",
      "Type                            7021 non-null object\n",
      "Genres                          7021 non-null object\n",
      "spelling_quality_score          568 non-null float64\n",
      "spelling_category               568 non-null object\n",
      "sentiment_polarity_score        568 non-null float64\n",
      "sentiment_polarity_category     568 non-null object\n",
      "sentiment_subjectivity_score    568 non-null float64\n",
      "grammar_check_score             568 non-null float64\n",
      "grammar_categories              568 non-null object\n",
      "dtypes: float64(9), int64(1), object(8)\n",
      "memory usage: 987.4+ KB\n"
     ]
    }
   ],
   "source": [
    "# Dataset Information\n",
    "dfm.info()"
   ]
  },
  {
   "cell_type": "markdown",
   "metadata": {},
   "source": [
    "## 3.1 Variable Correlation"
   ]
  },
  {
   "cell_type": "code",
   "execution_count": 37,
   "metadata": {
    "scrolled": true
   },
   "outputs": [
    {
     "data": {
      "text/plain": [
       "<matplotlib.axes._subplots.AxesSubplot at 0x22d2eb63198>"
      ]
     },
     "execution_count": 37,
     "metadata": {},
     "output_type": "execute_result"
    },
    {
     "data": {
      "image/png": "[encoded data removed]",
      "text/plain": [
       "<Figure size 864x720 with 2 Axes>"
      ]
     },
     "metadata": {
      "needs_background": "light"
     },
     "output_type": "display_data"
    }
   ],
   "source": [
    "plt.figure(figsize=(12,10))\n",
    "dfm1=dfm.copy()\n",
    "sns.heatmap(dfm1.corr(),cmap =\"YlGnBu\",annot=True, alpha=.8)"
   ]
  },
  {
   "cell_type": "markdown",
   "metadata": {},
   "source": [
    "The correlations between rating and other variables are quite small, indicating potential nonlinear relationships. Number of reviews and installs are positively correlated (correlation=0.6). This is intuitive as more reviews will be written when the number of installs increases."
   ]
  },
  {
   "cell_type": "markdown",
   "metadata": {},
   "source": [
    "## 3.2 Variable Distribution"
   ]
  },
  {
   "cell_type": "code",
   "execution_count": 27,
   "metadata": {
    "scrolled": true
   },
   "outputs": [
    {
     "data": {
      "text/plain": [
       "array([[<matplotlib.axes._subplots.AxesSubplot object at 0x7f1266f0f3a0>,\n",
       "        <matplotlib.axes._subplots.AxesSubplot object at 0x7f1268f9f4c0>,\n",
       "        <matplotlib.axes._subplots.AxesSubplot object at 0x7f1268f49940>],\n",
       "       [<matplotlib.axes._subplots.AxesSubplot object at 0x7f1268f77dc0>,\n",
       "        <matplotlib.axes._subplots.AxesSubplot object at 0x7f1268f30250>,\n",
       "        <matplotlib.axes._subplots.AxesSubplot object at 0x7f126842c5e0>],\n",
       "       [<matplotlib.axes._subplots.AxesSubplot object at 0x7f126842c6d0>,\n",
       "        <matplotlib.axes._subplots.AxesSubplot object at 0x7f12683d7bb0>,\n",
       "        <matplotlib.axes._subplots.AxesSubplot object at 0x7f12683c1430>],\n",
       "       [<matplotlib.axes._subplots.AxesSubplot object at 0x7f126836e880>,\n",
       "        <matplotlib.axes._subplots.AxesSubplot object at 0x7f126831bc10>,\n",
       "        <matplotlib.axes._subplots.AxesSubplot object at 0x7f1268346250>]],\n",
       "      dtype=object)"
      ]
     },
     "execution_count": 27,
     "metadata": {},
     "output_type": "execute_result"
    },
    {
     "data": {
      "image/png": "[encoded data removed]",
      "text/plain": [
       "<Figure size 720x720 with 12 Axes>"
      ]
     },
     "metadata": {
      "needs_background": "light"
     },
     "output_type": "display_data"
    }
   ],
   "source": [
    "dfm.hist(color=\"c\", figsize=(10, 10))"
   ]
  },
  {
   "cell_type": "markdown",
   "metadata": {},
   "source": [
    "Last updated and size are extremely skewed. Price, installs, and reviews mainly cluster around certain values."
   ]
  },
  {
   "cell_type": "markdown",
   "metadata": {},
   "source": [
    "### Distribution of Apps per Category"
   ]
  },
  {
   "cell_type": "code",
   "execution_count": 28,
   "metadata": {
    "scrolled": true
   },
   "outputs": [
    {
     "data": {
      "application/vnd.plotly.v1+json": {
       "config": {
        "linkText": "Export to plot.ly",
        "plotlyServerURL": "https://plot.ly",
        "showLink": false
       },
       "data": [
        {
         "hoverinfo": "label+value",
         "labels": [
          "BEAUTY",
          "EVENTS",
          "PARENTING",
          "COMICS",
          "WEATHER",
          "HOUSE_AND_HOME",
          "ART_AND_DESIGN",
          "LIBRARIES_AND_DEMO",
          "AUTO_AND_VEHICLES",
          "ENTERTAINMENT",
          "FOOD_AND_DRINK",
          "EDUCATION",
          "MAPS_AND_NAVIGATION",
          "VIDEO_PLAYERS",
          "DATING",
          "BOOKS_AND_REFERENCE",
          "TRAVEL_AND_LOCAL",
          "SHOPPING",
          "NEWS_AND_MAGAZINES",
          "SOCIAL",
          "COMMUNICATION",
          "HEALTH_AND_FITNESS",
          "PHOTOGRAPHY",
          "SPORTS",
          "BUSINESS",
          "PRODUCTIVITY",
          "FINANCE",
          "MEDICAL",
          "LIFESTYLE",
          "PERSONALIZATION",
          "TOOLS",
          "GAME",
          "FAMILY"
         ],
         "type": "pie",
         "values": [
          37,
          38,
          44,
          47,
          50,
          50,
          58,
          60,
          63,
          64,
          72,
          88,
          94,
          112,
          122,
          141,
          141,
          146,
          154,
          156,
          188,
          191,
          204,
          221,
          222,
          223,
          258,
          266,
          269,
          274,
          625,
          832,
          1511
         ]
        }
       ],
       "layout": {
        "template": {
         "data": {
          "bar": [
           {
            "error_x": {
             "color": "#2a3f5f"
            },
            "error_y": {
             "color": "#2a3f5f"
            },
            "marker": {
             "line": {
              "color": "#E5ECF6",
              "width": 0.5
             }
            },
            "type": "bar"
           }
          ],
          "barpolar": [
           {
            "marker": {
             "line": {
              "color": "#E5ECF6",
              "width": 0.5
             }
            },
            "type": "barpolar"
           }
          ],
          "carpet": [
           {
            "aaxis": {
             "endlinecolor": "#2a3f5f",
             "gridcolor": "white",
             "linecolor": "white",
             "minorgridcolor": "white",
             "startlinecolor": "#2a3f5f"
            },
            "baxis": {
             "endlinecolor": "#2a3f5f",
             "gridcolor": "white",
             "linecolor": "white",
             "minorgridcolor": "white",
             "startlinecolor": "#2a3f5f"
            },
            "type": "carpet"
           }
          ],
          "choropleth": [
           {
            "colorbar": {
             "outlinewidth": 0,
             "ticks": ""
            },
            "type": "choropleth"
           }
          ],
          "contour": [
           {
            "colorbar": {
             "outlinewidth": 0,
             "ticks": ""
            },
            "colorscale": [
             [
              0,
              "#0d0887"
             ],
             [
              0.1111111111111111,
              "#46039f"
             ],
             [
              0.2222222222222222,
              "#7201a8"
             ],
             [
              0.3333333333333333,
              "#9c179e"
             ],
             [
              0.4444444444444444,
              "#bd3786"
             ],
             [
              0.5555555555555556,
              "#d8576b"
             ],
             [
              0.6666666666666666,
              "#ed7953"
             ],
             [
              0.7777777777777778,
              "#fb9f3a"
             ],
             [
              0.8888888888888888,
              "#fdca26"
             ],
             [
              1,
              "#f0f921"
             ]
            ],
            "type": "contour"
           }
          ],
          "contourcarpet": [
           {
            "colorbar": {
             "outlinewidth": 0,
             "ticks": ""
            },
            "type": "contourcarpet"
           }
          ],
          "heatmap": [
           {
            "colorbar": {
             "outlinewidth": 0,
             "ticks": ""
            },
            "colorscale": [
             [
              0,
              "#0d0887"
             ],
             [
              0.1111111111111111,
              "#46039f"
             ],
             [
              0.2222222222222222,
              "#7201a8"
             ],
             [
              0.3333333333333333,
              "#9c179e"
             ],
             [
              0.4444444444444444,
              "#bd3786"
             ],
             [
              0.5555555555555556,
              "#d8576b"
             ],
             [
              0.6666666666666666,
              "#ed7953"
             ],
             [
              0.7777777777777778,
              "#fb9f3a"
             ],
             [
              0.8888888888888888,
              "#fdca26"
             ],
             [
              1,
              "#f0f921"
             ]
            ],
            "type": "heatmap"
           }
          ],
          "heatmapgl": [
           {
            "colorbar": {
             "outlinewidth": 0,
             "ticks": ""
            },
            "colorscale": [
             [
              0,
              "#0d0887"
             ],
             [
              0.1111111111111111,
              "#46039f"
             ],
             [
              0.2222222222222222,
              "#7201a8"
             ],
             [
              0.3333333333333333,
              "#9c179e"
             ],
             [
              0.4444444444444444,
              "#bd3786"
             ],
             [
              0.5555555555555556,
              "#d8576b"
             ],
             [
              0.6666666666666666,
              "#ed7953"
             ],
             [
              0.7777777777777778,
              "#fb9f3a"
             ],
             [
              0.8888888888888888,
              "#fdca26"
             ],
             [
              1,
              "#f0f921"
             ]
            ],
            "type": "heatmapgl"
           }
          ],
          "histogram": [
           {
            "marker": {
             "colorbar": {
              "outlinewidth": 0,
              "ticks": ""
             }
            },
            "type": "histogram"
           }
          ],
          "histogram2d": [
           {
            "colorbar": {
             "outlinewidth": 0,
             "ticks": ""
            },
            "colorscale": [
             [
              0,
              "#0d0887"
             ],
             [
              0.1111111111111111,
              "#46039f"
             ],
             [
              0.2222222222222222,
              "#7201a8"
             ],
             [
              0.3333333333333333,
              "#9c179e"
             ],
             [
              0.4444444444444444,
              "#bd3786"
             ],
             [
              0.5555555555555556,
              "#d8576b"
             ],
             [
              0.6666666666666666,
              "#ed7953"
             ],
             [
              0.7777777777777778,
              "#fb9f3a"
             ],
             [
              0.8888888888888888,
              "#fdca26"
             ],
             [
              1,
              "#f0f921"
             ]
            ],
            "type": "histogram2d"
           }
          ],
          "histogram2dcontour": [
           {
            "colorbar": {
             "outlinewidth": 0,
             "ticks": ""
            },
            "colorscale": [
             [
              0,
              "#0d0887"
             ],
             [
              0.1111111111111111,
              "#46039f"
             ],
             [
              0.2222222222222222,
              "#7201a8"
             ],
             [
              0.3333333333333333,
              "#9c179e"
             ],
             [
              0.4444444444444444,
              "#bd3786"
             ],
             [
              0.5555555555555556,
              "#d8576b"
             ],
             [
              0.6666666666666666,
              "#ed7953"
             ],
             [
              0.7777777777777778,
              "#fb9f3a"
             ],
             [
              0.8888888888888888,
              "#fdca26"
             ],
             [
              1,
              "#f0f921"
             ]
            ],
            "type": "histogram2dcontour"
           }
          ],
          "mesh3d": [
           {
            "colorbar": {
             "outlinewidth": 0,
             "ticks": ""
            },
            "type": "mesh3d"
           }
          ],
          "parcoords": [
           {
            "line": {
             "colorbar": {
              "outlinewidth": 0,
              "ticks": ""
             }
            },
            "type": "parcoords"
           }
          ],
          "pie": [
           {
            "automargin": true,
            "type": "pie"
           }
          ],
          "scatter": [
           {
            "marker": {
             "colorbar": {
              "outlinewidth": 0,
              "ticks": ""
             }
            },
            "type": "scatter"
           }
          ],
          "scatter3d": [
           {
            "line": {
             "colorbar": {
              "outlinewidth": 0,
              "ticks": ""
             }
            },
            "marker": {
             "colorbar": {
              "outlinewidth": 0,
              "ticks": ""
             }
            },
            "type": "scatter3d"
           }
          ],
          "scattercarpet": [
           {
            "marker": {
             "colorbar": {
              "outlinewidth": 0,
              "ticks": ""
             }
            },
            "type": "scattercarpet"
           }
          ],
          "scattergeo": [
           {
            "marker": {
             "colorbar": {
              "outlinewidth": 0,
              "ticks": ""
             }
            },
            "type": "scattergeo"
           }
          ],
          "scattergl": [
           {
            "marker": {
             "colorbar": {
              "outlinewidth": 0,
              "ticks": ""
             }
            },
            "type": "scattergl"
           }
          ],
          "scattermapbox": [
           {
            "marker": {
             "colorbar": {
              "outlinewidth": 0,
              "ticks": ""
             }
            },
            "type": "scattermapbox"
           }
          ],
          "scatterpolar": [
           {
            "marker": {
             "colorbar": {
              "outlinewidth": 0,
              "ticks": ""
             }
            },
            "type": "scatterpolar"
           }
          ],
          "scatterpolargl": [
           {
            "marker": {
             "colorbar": {
              "outlinewidth": 0,
              "ticks": ""
             }
            },
            "type": "scatterpolargl"
           }
          ],
          "scatterternary": [
           {
            "marker": {
             "colorbar": {
              "outlinewidth": 0,
              "ticks": ""
             }
            },
            "type": "scatterternary"
           }
          ],
          "surface": [
           {
            "colorbar": {
             "outlinewidth": 0,
             "ticks": ""
            },
            "colorscale": [
             [
              0,
              "#0d0887"
             ],
             [
              0.1111111111111111,
              "#46039f"
             ],
             [
              0.2222222222222222,
              "#7201a8"
             ],
             [
              0.3333333333333333,
              "#9c179e"
             ],
             [
              0.4444444444444444,
              "#bd3786"
             ],
             [
              0.5555555555555556,
              "#d8576b"
             ],
             [
              0.6666666666666666,
              "#ed7953"
             ],
             [
              0.7777777777777778,
              "#fb9f3a"
             ],
             [
              0.8888888888888888,
              "#fdca26"
             ],
             [
              1,
              "#f0f921"
             ]
            ],
            "type": "surface"
           }
          ],
          "table": [
           {
            "cells": {
             "fill": {
              "color": "#EBF0F8"
             },
             "line": {
              "color": "white"
             }
            },
            "header": {
             "fill": {
              "color": "#C8D4E3"
             },
             "line": {
              "color": "white"
             }
            },
            "type": "table"
           }
          ]
         },
         "layout": {
          "annotationdefaults": {
           "arrowcolor": "#2a3f5f",
           "arrowhead": 0,
           "arrowwidth": 1
          },
          "coloraxis": {
           "colorbar": {
            "outlinewidth": 0,
            "ticks": ""
           }
          },
          "colorscale": {
           "diverging": [
            [
             0,
             "#8e0152"
            ],
            [
             0.1,
             "#c51b7d"
            ],
            [
             0.2,
             "#de77ae"
            ],
            [
             0.3,
             "#f1b6da"
            ],
            [
             0.4,
             "#fde0ef"
            ],
            [
             0.5,
             "#f7f7f7"
            ],
            [
             0.6,
             "#e6f5d0"
            ],
            [
             0.7,
             "#b8e186"
            ],
            [
             0.8,
             "#7fbc41"
            ],
            [
             0.9,
             "#4d9221"
            ],
            [
             1,
             "#276419"
            ]
           ],
           "sequential": [
            [
             0,
             "#0d0887"
            ],
            [
             0.1111111111111111,
             "#46039f"
            ],
            [
             0.2222222222222222,
             "#7201a8"
            ],
            [
             0.3333333333333333,
             "#9c179e"
            ],
            [
             0.4444444444444444,
             "#bd3786"
            ],
            [
             0.5555555555555556,
             "#d8576b"
            ],
            [
             0.6666666666666666,
             "#ed7953"
            ],
            [
             0.7777777777777778,
             "#fb9f3a"
            ],
            [
             0.8888888888888888,
             "#fdca26"
            ],
            [
             1,
             "#f0f921"
            ]
           ],
           "sequentialminus": [
            [
             0,
             "#0d0887"
            ],
            [
             0.1111111111111111,
             "#46039f"
            ],
            [
             0.2222222222222222,
             "#7201a8"
            ],
            [
             0.3333333333333333,
             "#9c179e"
            ],
            [
             0.4444444444444444,
             "#bd3786"
            ],
            [
             0.5555555555555556,
             "#d8576b"
            ],
            [
             0.6666666666666666,
             "#ed7953"
            ],
            [
             0.7777777777777778,
             "#fb9f3a"
            ],
            [
             0.8888888888888888,
             "#fdca26"
            ],
            [
             1,
             "#f0f921"
            ]
           ]
          },
          "colorway": [
           "#636efa",
           "#EF553B",
           "#00cc96",
           "#ab63fa",
           "#FFA15A",
           "#19d3f3",
           "#FF6692",
           "#B6E880",
           "#FF97FF",
           "#FECB52"
          ],
          "font": {
           "color": "#2a3f5f"
          },
          "geo": {
           "bgcolor": "white",
           "lakecolor": "white",
           "landcolor": "#E5ECF6",
           "showlakes": true,
           "showland": true,
           "subunitcolor": "white"
          },
          "hoverlabel": {
           "align": "left"
          },
          "hovermode": "closest",
          "mapbox": {
           "style": "light"
          },
          "paper_bgcolor": "white",
          "plot_bgcolor": "#E5ECF6",
          "polar": {
           "angularaxis": {
            "gridcolor": "white",
            "linecolor": "white",
            "ticks": ""
           },
           "bgcolor": "#E5ECF6",
           "radialaxis": {
            "gridcolor": "white",
            "linecolor": "white",
            "ticks": ""
           }
          },
          "scene": {
           "xaxis": {
            "backgroundcolor": "#E5ECF6",
            "gridcolor": "white",
            "gridwidth": 2,
            "linecolor": "white",
            "showbackground": true,
            "ticks": "",
            "zerolinecolor": "white"
           },
           "yaxis": {
            "backgroundcolor": "#E5ECF6",
            "gridcolor": "white",
            "gridwidth": 2,
            "linecolor": "white",
            "showbackground": true,
            "ticks": "",
            "zerolinecolor": "white"
           },
           "zaxis": {
            "backgroundcolor": "#E5ECF6",
            "gridcolor": "white",
            "gridwidth": 2,
            "linecolor": "white",
            "showbackground": true,
            "ticks": "",
            "zerolinecolor": "white"
           }
          },
          "shapedefaults": {
           "line": {
            "color": "#2a3f5f"
           }
          },
          "ternary": {
           "aaxis": {
            "gridcolor": "white",
            "linecolor": "white",
            "ticks": ""
           },
           "baxis": {
            "gridcolor": "white",
            "linecolor": "white",
            "ticks": ""
           },
           "bgcolor": "#E5ECF6",
           "caxis": {
            "gridcolor": "white",
            "linecolor": "white",
            "ticks": ""
           }
          },
          "title": {
           "x": 0.05
          },
          "xaxis": {
           "automargin": true,
           "gridcolor": "white",
           "linecolor": "white",
           "ticks": "",
           "title": {
            "standoff": 15
           },
           "zerolinecolor": "white",
           "zerolinewidth": 2
          },
          "yaxis": {
           "automargin": true,
           "gridcolor": "white",
           "linecolor": "white",
           "ticks": "",
           "title": {
            "standoff": 15
           },
           "zerolinecolor": "white",
           "zerolinewidth": 2
          }
         }
        },
        "title": {
         "text": "Proportion of apps for each type of category"
        }
       }
      },
      "text/html": [
       "<div>                            <div id=\"48e58d46-7265-4a5e-a9c1-16ebd20316f2\" class=\"plotly-graph-div\" style=\"height:525px; width:100%;\"></div>            <script type=\"text/javascript\">                require([\"plotly\"], function(Plotly) {                    window.PLOTLYENV=window.PLOTLYENV || {};                                    if (document.getElementById(\"48e58d46-7265-4a5e-a9c1-16ebd20316f2\")) {                    Plotly.newPlot(                        \"48e58d46-7265-4a5e-a9c1-16ebd20316f2\",                        [{\"hoverinfo\": \"label+value\", \"labels\": [\"BEAUTY\", \"EVENTS\", \"PARENTING\", \"COMICS\", \"WEATHER\", \"HOUSE_AND_HOME\", \"ART_AND_DESIGN\", \"LIBRARIES_AND_DEMO\", \"AUTO_AND_VEHICLES\", \"ENTERTAINMENT\", \"FOOD_AND_DRINK\", \"EDUCATION\", \"MAPS_AND_NAVIGATION\", \"VIDEO_PLAYERS\", \"DATING\", \"BOOKS_AND_REFERENCE\", \"TRAVEL_AND_LOCAL\", \"SHOPPING\", \"NEWS_AND_MAGAZINES\", \"SOCIAL\", \"COMMUNICATION\", \"HEALTH_AND_FITNESS\", \"PHOTOGRAPHY\", \"SPORTS\", \"BUSINESS\", \"PRODUCTIVITY\", \"FINANCE\", \"MEDICAL\", \"LIFESTYLE\", \"PERSONALIZATION\", \"TOOLS\", \"GAME\", \"FAMILY\"], \"type\": \"pie\", \"values\": [37, 38, 44, 47, 50, 50, 58, 60, 63, 64, 72, 88, 94, 112, 122, 141, 141, 146, 154, 156, 188, 191, 204, 221, 222, 223, 258, 266, 269, 274, 625, 832, 1511]}],                        {\"template\": {\"data\": {\"bar\": [{\"error_x\": {\"color\": \"#2a3f5f\"}, \"error_y\": {\"color\": \"#2a3f5f\"}, \"marker\": {\"line\": {\"color\": \"#E5ECF6\", \"width\": 0.5}}, \"type\": \"bar\"}], \"barpolar\": [{\"marker\": {\"line\": {\"color\": \"#E5ECF6\", \"width\": 0.5}}, \"type\": \"barpolar\"}], \"carpet\": [{\"aaxis\": {\"endlinecolor\": \"#2a3f5f\", \"gridcolor\": \"white\", \"linecolor\": \"white\", \"minorgridcolor\": \"white\", \"startlinecolor\": \"#2a3f5f\"}, \"baxis\": {\"endlinecolor\": \"#2a3f5f\", \"gridcolor\": \"white\", \"linecolor\": \"white\", \"minorgridcolor\": \"white\", \"startlinecolor\": \"#2a3f5f\"}, \"type\": \"carpet\"}], \"choropleth\": [{\"colorbar\": {\"outlinewidth\": 0, \"ticks\": \"\"}, \"type\": \"choropleth\"}], \"contour\": [{\"colorbar\": {\"outlinewidth\": 0, \"ticks\": \"\"}, \"colorscale\": [[0.0, \"#0d0887\"], [0.1111111111111111, \"#46039f\"], [0.2222222222222222, \"#7201a8\"], [0.3333333333333333, \"#9c179e\"], [0.4444444444444444, \"#bd3786\"], [0.5555555555555556, \"#d8576b\"], [0.6666666666666666, \"#ed7953\"], [0.7777777777777778, \"#fb9f3a\"], [0.8888888888888888, \"#fdca26\"], [1.0, \"#f0f921\"]], \"type\": \"contour\"}], \"contourcarpet\": [{\"colorbar\": {\"outlinewidth\": 0, \"ticks\": \"\"}, \"type\": \"contourcarpet\"}], \"heatmap\": [{\"colorbar\": {\"outlinewidth\": 0, \"ticks\": \"\"}, \"colorscale\": [[0.0, \"#0d0887\"], [0.1111111111111111, \"#46039f\"], [0.2222222222222222, \"#7201a8\"], [0.3333333333333333, \"#9c179e\"], [0.4444444444444444, \"#bd3786\"], [0.5555555555555556, \"#d8576b\"], [0.6666666666666666, \"#ed7953\"], [0.7777777777777778, \"#fb9f3a\"], [0.8888888888888888, \"#fdca26\"], [1.0, \"#f0f921\"]], \"type\": \"heatmap\"}], \"heatmapgl\": [{\"colorbar\": {\"outlinewidth\": 0, \"ticks\": \"\"}, \"colorscale\": [[0.0, \"#0d0887\"], [0.1111111111111111, \"#46039f\"], [0.2222222222222222, \"#7201a8\"], [0.3333333333333333, \"#9c179e\"], [0.4444444444444444, \"#bd3786\"], [0.5555555555555556, \"#d8576b\"], [0.6666666666666666, \"#ed7953\"], [0.7777777777777778, \"#fb9f3a\"], [0.8888888888888888, \"#fdca26\"], [1.0, \"#f0f921\"]], \"type\": \"heatmapgl\"}], \"histogram\": [{\"marker\": {\"colorbar\": {\"outlinewidth\": 0, \"ticks\": \"\"}}, \"type\": \"histogram\"}], \"histogram2d\": [{\"colorbar\": {\"outlinewidth\": 0, \"ticks\": \"\"}, \"colorscale\": [[0.0, \"#0d0887\"], [0.1111111111111111, \"#46039f\"], [0.2222222222222222, \"#7201a8\"], [0.3333333333333333, \"#9c179e\"], [0.4444444444444444, \"#bd3786\"], [0.5555555555555556, \"#d8576b\"], [0.6666666666666666, \"#ed7953\"], [0.7777777777777778, \"#fb9f3a\"], [0.8888888888888888, \"#fdca26\"], [1.0, \"#f0f921\"]], \"type\": \"histogram2d\"}], \"histogram2dcontour\": [{\"colorbar\": {\"outlinewidth\": 0, \"ticks\": \"\"}, \"colorscale\": [[0.0, \"#0d0887\"], [0.1111111111111111, \"#46039f\"], [0.2222222222222222, \"#7201a8\"], [0.3333333333333333, \"#9c179e\"], [0.4444444444444444, \"#bd3786\"], [0.5555555555555556, \"#d8576b\"], [0.6666666666666666, \"#ed7953\"], [0.7777777777777778, \"#fb9f3a\"], [0.8888888888888888, \"#fdca26\"], [1.0, \"#f0f921\"]], \"type\": \"histogram2dcontour\"}], \"mesh3d\": [{\"colorbar\": {\"outlinewidth\": 0, \"ticks\": \"\"}, \"type\": \"mesh3d\"}], \"parcoords\": [{\"line\": {\"colorbar\": {\"outlinewidth\": 0, \"ticks\": \"\"}}, \"type\": \"parcoords\"}], \"pie\": [{\"automargin\": true, \"type\": \"pie\"}], \"scatter\": [{\"marker\": {\"colorbar\": {\"outlinewidth\": 0, \"ticks\": \"\"}}, \"type\": \"scatter\"}], \"scatter3d\": [{\"line\": {\"colorbar\": {\"outlinewidth\": 0, \"ticks\": \"\"}}, \"marker\": {\"colorbar\": {\"outlinewidth\": 0, \"ticks\": \"\"}}, \"type\": \"scatter3d\"}], \"scattercarpet\": [{\"marker\": {\"colorbar\": {\"outlinewidth\": 0, \"ticks\": \"\"}}, \"type\": \"scattercarpet\"}], \"scattergeo\": [{\"marker\": {\"colorbar\": {\"outlinewidth\": 0, \"ticks\": \"\"}}, \"type\": \"scattergeo\"}], \"scattergl\": [{\"marker\": {\"colorbar\": {\"outlinewidth\": 0, \"ticks\": \"\"}}, \"type\": \"scattergl\"}], \"scattermapbox\": [{\"marker\": {\"colorbar\": {\"outlinewidth\": 0, \"ticks\": \"\"}}, \"type\": \"scattermapbox\"}], \"scatterpolar\": [{\"marker\": {\"colorbar\": {\"outlinewidth\": 0, \"ticks\": \"\"}}, \"type\": \"scatterpolar\"}], \"scatterpolargl\": [{\"marker\": {\"colorbar\": {\"outlinewidth\": 0, \"ticks\": \"\"}}, \"type\": \"scatterpolargl\"}], \"scatterternary\": [{\"marker\": {\"colorbar\": {\"outlinewidth\": 0, \"ticks\": \"\"}}, \"type\": \"scatterternary\"}], \"surface\": [{\"colorbar\": {\"outlinewidth\": 0, \"ticks\": \"\"}, \"colorscale\": [[0.0, \"#0d0887\"], [0.1111111111111111, \"#46039f\"], [0.2222222222222222, \"#7201a8\"], [0.3333333333333333, \"#9c179e\"], [0.4444444444444444, \"#bd3786\"], [0.5555555555555556, \"#d8576b\"], [0.6666666666666666, \"#ed7953\"], [0.7777777777777778, \"#fb9f3a\"], [0.8888888888888888, \"#fdca26\"], [1.0, \"#f0f921\"]], \"type\": \"surface\"}], \"table\": [{\"cells\": {\"fill\": {\"color\": \"#EBF0F8\"}, \"line\": {\"color\": \"white\"}}, \"header\": {\"fill\": {\"color\": \"#C8D4E3\"}, \"line\": {\"color\": \"white\"}}, \"type\": \"table\"}]}, \"layout\": {\"annotationdefaults\": {\"arrowcolor\": \"#2a3f5f\", \"arrowhead\": 0, \"arrowwidth\": 1}, \"coloraxis\": {\"colorbar\": {\"outlinewidth\": 0, \"ticks\": \"\"}}, \"colorscale\": {\"diverging\": [[0, \"#8e0152\"], [0.1, \"#c51b7d\"], [0.2, \"#de77ae\"], [0.3, \"#f1b6da\"], [0.4, \"#fde0ef\"], [0.5, \"#f7f7f7\"], [0.6, \"#e6f5d0\"], [0.7, \"#b8e186\"], [0.8, \"#7fbc41\"], [0.9, \"#4d9221\"], [1, \"#276419\"]], \"sequential\": [[0.0, \"#0d0887\"], [0.1111111111111111, \"#46039f\"], [0.2222222222222222, \"#7201a8\"], [0.3333333333333333, \"#9c179e\"], [0.4444444444444444, \"#bd3786\"], [0.5555555555555556, \"#d8576b\"], [0.6666666666666666, \"#ed7953\"], [0.7777777777777778, \"#fb9f3a\"], [0.8888888888888888, \"#fdca26\"], [1.0, \"#f0f921\"]], \"sequentialminus\": [[0.0, \"#0d0887\"], [0.1111111111111111, \"#46039f\"], [0.2222222222222222, \"#7201a8\"], [0.3333333333333333, \"#9c179e\"], [0.4444444444444444, \"#bd3786\"], [0.5555555555555556, \"#d8576b\"], [0.6666666666666666, \"#ed7953\"], [0.7777777777777778, \"#fb9f3a\"], [0.8888888888888888, \"#fdca26\"], [1.0, \"#f0f921\"]]}, \"colorway\": [\"#636efa\", \"#EF553B\", \"#00cc96\", \"#ab63fa\", \"#FFA15A\", \"#19d3f3\", \"#FF6692\", \"#B6E880\", \"#FF97FF\", \"#FECB52\"], \"font\": {\"color\": \"#2a3f5f\"}, \"geo\": {\"bgcolor\": \"white\", \"lakecolor\": \"white\", \"landcolor\": \"#E5ECF6\", \"showlakes\": true, \"showland\": true, \"subunitcolor\": \"white\"}, \"hoverlabel\": {\"align\": \"left\"}, \"hovermode\": \"closest\", \"mapbox\": {\"style\": \"light\"}, \"paper_bgcolor\": \"white\", \"plot_bgcolor\": \"#E5ECF6\", \"polar\": {\"angularaxis\": {\"gridcolor\": \"white\", \"linecolor\": \"white\", \"ticks\": \"\"}, \"bgcolor\": \"#E5ECF6\", \"radialaxis\": {\"gridcolor\": \"white\", \"linecolor\": \"white\", \"ticks\": \"\"}}, \"scene\": {\"xaxis\": {\"backgroundcolor\": \"#E5ECF6\", \"gridcolor\": \"white\", \"gridwidth\": 2, \"linecolor\": \"white\", \"showbackground\": true, \"ticks\": \"\", \"zerolinecolor\": \"white\"}, \"yaxis\": {\"backgroundcolor\": \"#E5ECF6\", \"gridcolor\": \"white\", \"gridwidth\": 2, \"linecolor\": \"white\", \"showbackground\": true, \"ticks\": \"\", \"zerolinecolor\": \"white\"}, \"zaxis\": {\"backgroundcolor\": \"#E5ECF6\", \"gridcolor\": \"white\", \"gridwidth\": 2, \"linecolor\": \"white\", \"showbackground\": true, \"ticks\": \"\", \"zerolinecolor\": \"white\"}}, \"shapedefaults\": {\"line\": {\"color\": \"#2a3f5f\"}}, \"ternary\": {\"aaxis\": {\"gridcolor\": \"white\", \"linecolor\": \"white\", \"ticks\": \"\"}, \"baxis\": {\"gridcolor\": \"white\", \"linecolor\": \"white\", \"ticks\": \"\"}, \"bgcolor\": \"#E5ECF6\", \"caxis\": {\"gridcolor\": \"white\", \"linecolor\": \"white\", \"ticks\": \"\"}}, \"title\": {\"x\": 0.05}, \"xaxis\": {\"automargin\": true, \"gridcolor\": \"white\", \"linecolor\": \"white\", \"ticks\": \"\", \"title\": {\"standoff\": 15}, \"zerolinecolor\": \"white\", \"zerolinewidth\": 2}, \"yaxis\": {\"automargin\": true, \"gridcolor\": \"white\", \"linecolor\": \"white\", \"ticks\": \"\", \"title\": {\"standoff\": 15}, \"zerolinecolor\": \"white\", \"zerolinewidth\": 2}}}, \"title\": {\"text\": \"Proportion of apps for each type of category\"}},                        {\"responsive\": true}                    ).then(function(){\n",
       "                            \n",
       "var gd = document.getElementById('48e58d46-7265-4a5e-a9c1-16ebd20316f2');\n",
       "var x = new MutationObserver(function (mutations, observer) {{\n",
       "        var display = window.getComputedStyle(gd).display;\n",
       "        if (!display || display === 'none') {{\n",
       "            console.log([gd, 'removed!']);\n",
       "            Plotly.purge(gd);\n",
       "            observer.disconnect();\n",
       "        }}\n",
       "}});\n",
       "\n",
       "// Listen for the removal of the full notebook cells\n",
       "var notebookContainer = gd.closest('#notebook-container');\n",
       "if (notebookContainer) {{\n",
       "    x.observe(notebookContainer, {childList: true});\n",
       "}}\n",
       "\n",
       "// Listen for the clearing of the current output cell\n",
       "var outputEl = gd.closest('.output');\n",
       "if (outputEl) {{\n",
       "    x.observe(outputEl, {childList: true});\n",
       "}}\n",
       "\n",
       "                        })                };                });            </script>        </div>"
      ]
     },
     "metadata": {},
     "output_type": "display_data"
    }
   ],
   "source": [
    "#Number of Apps per category \n",
    "number_of_apps_in_category = dfm['Category'].value_counts().sort_values(ascending=True)\n",
    "# number_of_apps_in_category\n",
    "data1 = [go.Pie(\n",
    "        labels = number_of_apps_in_category.index,\n",
    "        values = number_of_apps_in_category.values,\n",
    "        hoverinfo = 'label+value')]\n",
    "\n",
    "mylayout = go.Layout(\n",
    "    title=\"Proportion of apps for each type of category\"\n",
    ")\n",
    "\n",
    "fig = go.Figure(data=data1, layout=mylayout)\n",
    "\n",
    "plotly.offline.iplot(fig,filename='active_category')\n"
   ]
  },
  {
   "cell_type": "markdown",
   "metadata": {},
   "source": [
    "### Distribution of Apps per Content Rating "
   ]
  },
  {
   "cell_type": "code",
   "execution_count": 29,
   "metadata": {},
   "outputs": [
    {
     "data": {
      "application/vnd.plotly.v1+json": {
       "config": {
        "linkText": "Export to plot.ly",
        "plotlyServerURL": "https://plot.ly",
        "showLink": false
       },
       "data": [
        {
         "hoverinfo": "label+value",
         "labels": [
          "Unrated",
          "Adults only 18+",
          "Everyone 10+",
          "Mature 17+",
          "Teen",
          "Everyone"
         ],
         "type": "pie",
         "values": [
          1,
          2,
          259,
          304,
          779,
          5676
         ]
        }
       ],
       "layout": {
        "template": {
         "data": {
          "bar": [
           {
            "error_x": {
             "color": "#2a3f5f"
            },
            "error_y": {
             "color": "#2a3f5f"
            },
            "marker": {
             "line": {
              "color": "#E5ECF6",
              "width": 0.5
             }
            },
            "type": "bar"
           }
          ],
          "barpolar": [
           {
            "marker": {
             "line": {
              "color": "#E5ECF6",
              "width": 0.5
             }
            },
            "type": "barpolar"
           }
          ],
          "carpet": [
           {
            "aaxis": {
             "endlinecolor": "#2a3f5f",
             "gridcolor": "white",
             "linecolor": "white",
             "minorgridcolor": "white",
             "startlinecolor": "#2a3f5f"
            },
            "baxis": {
             "endlinecolor": "#2a3f5f",
             "gridcolor": "white",
             "linecolor": "white",
             "minorgridcolor": "white",
             "startlinecolor": "#2a3f5f"
            },
            "type": "carpet"
           }
          ],
          "choropleth": [
           {
            "colorbar": {
             "outlinewidth": 0,
             "ticks": ""
            },
            "type": "choropleth"
           }
          ],
          "contour": [
           {
            "colorbar": {
             "outlinewidth": 0,
             "ticks": ""
            },
            "colorscale": [
             [
              0,
              "#0d0887"
             ],
             [
              0.1111111111111111,
              "#46039f"
             ],
             [
              0.2222222222222222,
              "#7201a8"
             ],
             [
              0.3333333333333333,
              "#9c179e"
             ],
             [
              0.4444444444444444,
              "#bd3786"
             ],
             [
              0.5555555555555556,
              "#d8576b"
             ],
             [
              0.6666666666666666,
              "#ed7953"
             ],
             [
              0.7777777777777778,
              "#fb9f3a"
             ],
             [
              0.8888888888888888,
              "#fdca26"
             ],
             [
              1,
              "#f0f921"
             ]
            ],
            "type": "contour"
           }
          ],
          "contourcarpet": [
           {
            "colorbar": {
             "outlinewidth": 0,
             "ticks": ""
            },
            "type": "contourcarpet"
           }
          ],
          "heatmap": [
           {
            "colorbar": {
             "outlinewidth": 0,
             "ticks": ""
            },
            "colorscale": [
             [
              0,
              "#0d0887"
             ],
             [
              0.1111111111111111,
              "#46039f"
             ],
             [
              0.2222222222222222,
              "#7201a8"
             ],
             [
              0.3333333333333333,
              "#9c179e"
             ],
             [
              0.4444444444444444,
              "#bd3786"
             ],
             [
              0.5555555555555556,
              "#d8576b"
             ],
             [
              0.6666666666666666,
              "#ed7953"
             ],
             [
              0.7777777777777778,
              "#fb9f3a"
             ],
             [
              0.8888888888888888,
              "#fdca26"
             ],
             [
              1,
              "#f0f921"
             ]
            ],
            "type": "heatmap"
           }
          ],
          "heatmapgl": [
           {
            "colorbar": {
             "outlinewidth": 0,
             "ticks": ""
            },
            "colorscale": [
             [
              0,
              "#0d0887"
             ],
             [
              0.1111111111111111,
              "#46039f"
             ],
             [
              0.2222222222222222,
              "#7201a8"
             ],
             [
              0.3333333333333333,
              "#9c179e"
             ],
             [
              0.4444444444444444,
              "#bd3786"
             ],
             [
              0.5555555555555556,
              "#d8576b"
             ],
             [
              0.6666666666666666,
              "#ed7953"
             ],
             [
              0.7777777777777778,
              "#fb9f3a"
             ],
             [
              0.8888888888888888,
              "#fdca26"
             ],
             [
              1,
              "#f0f921"
             ]
            ],
            "type": "heatmapgl"
           }
          ],
          "histogram": [
           {
            "marker": {
             "colorbar": {
              "outlinewidth": 0,
              "ticks": ""
             }
            },
            "type": "histogram"
           }
          ],
          "histogram2d": [
           {
            "colorbar": {
             "outlinewidth": 0,
             "ticks": ""
            },
            "colorscale": [
             [
              0,
              "#0d0887"
             ],
             [
              0.1111111111111111,
              "#46039f"
             ],
             [
              0.2222222222222222,
              "#7201a8"
             ],
             [
              0.3333333333333333,
              "#9c179e"
             ],
             [
              0.4444444444444444,
              "#bd3786"
             ],
             [
              0.5555555555555556,
              "#d8576b"
             ],
             [
              0.6666666666666666,
              "#ed7953"
             ],
             [
              0.7777777777777778,
              "#fb9f3a"
             ],
             [
              0.8888888888888888,
              "#fdca26"
             ],
             [
              1,
              "#f0f921"
             ]
            ],
            "type": "histogram2d"
           }
          ],
          "histogram2dcontour": [
           {
            "colorbar": {
             "outlinewidth": 0,
             "ticks": ""
            },
            "colorscale": [
             [
              0,
              "#0d0887"
             ],
             [
              0.1111111111111111,
              "#46039f"
             ],
             [
              0.2222222222222222,
              "#7201a8"
             ],
             [
              0.3333333333333333,
              "#9c179e"
             ],
             [
              0.4444444444444444,
              "#bd3786"
             ],
             [
              0.5555555555555556,
              "#d8576b"
             ],
             [
              0.6666666666666666,
              "#ed7953"
             ],
             [
              0.7777777777777778,
              "#fb9f3a"
             ],
             [
              0.8888888888888888,
              "#fdca26"
             ],
             [
              1,
              "#f0f921"
             ]
            ],
            "type": "histogram2dcontour"
           }
          ],
          "mesh3d": [
           {
            "colorbar": {
             "outlinewidth": 0,
             "ticks": ""
            },
            "type": "mesh3d"
           }
          ],
          "parcoords": [
           {
            "line": {
             "colorbar": {
              "outlinewidth": 0,
              "ticks": ""
             }
            },
            "type": "parcoords"
           }
          ],
          "pie": [
           {
            "automargin": true,
            "type": "pie"
           }
          ],
          "scatter": [
           {
            "marker": {
             "colorbar": {
              "outlinewidth": 0,
              "ticks": ""
             }
            },
            "type": "scatter"
           }
          ],
          "scatter3d": [
           {
            "line": {
             "colorbar": {
              "outlinewidth": 0,
              "ticks": ""
             }
            },
            "marker": {
             "colorbar": {
              "outlinewidth": 0,
              "ticks": ""
             }
            },
            "type": "scatter3d"
           }
          ],
          "scattercarpet": [
           {
            "marker": {
             "colorbar": {
              "outlinewidth": 0,
              "ticks": ""
             }
            },
            "type": "scattercarpet"
           }
          ],
          "scattergeo": [
           {
            "marker": {
             "colorbar": {
              "outlinewidth": 0,
              "ticks": ""
             }
            },
            "type": "scattergeo"
           }
          ],
          "scattergl": [
           {
            "marker": {
             "colorbar": {
              "outlinewidth": 0,
              "ticks": ""
             }
            },
            "type": "scattergl"
           }
          ],
          "scattermapbox": [
           {
            "marker": {
             "colorbar": {
              "outlinewidth": 0,
              "ticks": ""
             }
            },
            "type": "scattermapbox"
           }
          ],
          "scatterpolar": [
           {
            "marker": {
             "colorbar": {
              "outlinewidth": 0,
              "ticks": ""
             }
            },
            "type": "scatterpolar"
           }
          ],
          "scatterpolargl": [
           {
            "marker": {
             "colorbar": {
              "outlinewidth": 0,
              "ticks": ""
             }
            },
            "type": "scatterpolargl"
           }
          ],
          "scatterternary": [
           {
            "marker": {
             "colorbar": {
              "outlinewidth": 0,
              "ticks": ""
             }
            },
            "type": "scatterternary"
           }
          ],
          "surface": [
           {
            "colorbar": {
             "outlinewidth": 0,
             "ticks": ""
            },
            "colorscale": [
             [
              0,
              "#0d0887"
             ],
             [
              0.1111111111111111,
              "#46039f"
             ],
             [
              0.2222222222222222,
              "#7201a8"
             ],
             [
              0.3333333333333333,
              "#9c179e"
             ],
             [
              0.4444444444444444,
              "#bd3786"
             ],
             [
              0.5555555555555556,
              "#d8576b"
             ],
             [
              0.6666666666666666,
              "#ed7953"
             ],
             [
              0.7777777777777778,
              "#fb9f3a"
             ],
             [
              0.8888888888888888,
              "#fdca26"
             ],
             [
              1,
              "#f0f921"
             ]
            ],
            "type": "surface"
           }
          ],
          "table": [
           {
            "cells": {
             "fill": {
              "color": "#EBF0F8"
             },
             "line": {
              "color": "white"
             }
            },
            "header": {
             "fill": {
              "color": "#C8D4E3"
             },
             "line": {
              "color": "white"
             }
            },
            "type": "table"
           }
          ]
         },
         "layout": {
          "annotationdefaults": {
           "arrowcolor": "#2a3f5f",
           "arrowhead": 0,
           "arrowwidth": 1
          },
          "coloraxis": {
           "colorbar": {
            "outlinewidth": 0,
            "ticks": ""
           }
          },
          "colorscale": {
           "diverging": [
            [
             0,
             "#8e0152"
            ],
            [
             0.1,
             "#c51b7d"
            ],
            [
             0.2,
             "#de77ae"
            ],
            [
             0.3,
             "#f1b6da"
            ],
            [
             0.4,
             "#fde0ef"
            ],
            [
             0.5,
             "#f7f7f7"
            ],
            [
             0.6,
             "#e6f5d0"
            ],
            [
             0.7,
             "#b8e186"
            ],
            [
             0.8,
             "#7fbc41"
            ],
            [
             0.9,
             "#4d9221"
            ],
            [
             1,
             "#276419"
            ]
           ],
           "sequential": [
            [
             0,
             "#0d0887"
            ],
            [
             0.1111111111111111,
             "#46039f"
            ],
            [
             0.2222222222222222,
             "#7201a8"
            ],
            [
             0.3333333333333333,
             "#9c179e"
            ],
            [
             0.4444444444444444,
             "#bd3786"
            ],
            [
             0.5555555555555556,
             "#d8576b"
            ],
            [
             0.6666666666666666,
             "#ed7953"
            ],
            [
             0.7777777777777778,
             "#fb9f3a"
            ],
            [
             0.8888888888888888,
             "#fdca26"
            ],
            [
             1,
             "#f0f921"
            ]
           ],
           "sequentialminus": [
            [
             0,
             "#0d0887"
            ],
            [
             0.1111111111111111,
             "#46039f"
            ],
            [
             0.2222222222222222,
             "#7201a8"
            ],
            [
             0.3333333333333333,
             "#9c179e"
            ],
            [
             0.4444444444444444,
             "#bd3786"
            ],
            [
             0.5555555555555556,
             "#d8576b"
            ],
            [
             0.6666666666666666,
             "#ed7953"
            ],
            [
             0.7777777777777778,
             "#fb9f3a"
            ],
            [
             0.8888888888888888,
             "#fdca26"
            ],
            [
             1,
             "#f0f921"
            ]
           ]
          },
          "colorway": [
           "#636efa",
           "#EF553B",
           "#00cc96",
           "#ab63fa",
           "#FFA15A",
           "#19d3f3",
           "#FF6692",
           "#B6E880",
           "#FF97FF",
           "#FECB52"
          ],
          "font": {
           "color": "#2a3f5f"
          },
          "geo": {
           "bgcolor": "white",
           "lakecolor": "white",
           "landcolor": "#E5ECF6",
           "showlakes": true,
           "showland": true,
           "subunitcolor": "white"
          },
          "hoverlabel": {
           "align": "left"
          },
          "hovermode": "closest",
          "mapbox": {
           "style": "light"
          },
          "paper_bgcolor": "white",
          "plot_bgcolor": "#E5ECF6",
          "polar": {
           "angularaxis": {
            "gridcolor": "white",
            "linecolor": "white",
            "ticks": ""
           },
           "bgcolor": "#E5ECF6",
           "radialaxis": {
            "gridcolor": "white",
            "linecolor": "white",
            "ticks": ""
           }
          },
          "scene": {
           "xaxis": {
            "backgroundcolor": "#E5ECF6",
            "gridcolor": "white",
            "gridwidth": 2,
            "linecolor": "white",
            "showbackground": true,
            "ticks": "",
            "zerolinecolor": "white"
           },
           "yaxis": {
            "backgroundcolor": "#E5ECF6",
            "gridcolor": "white",
            "gridwidth": 2,
            "linecolor": "white",
            "showbackground": true,
            "ticks": "",
            "zerolinecolor": "white"
           },
           "zaxis": {
            "backgroundcolor": "#E5ECF6",
            "gridcolor": "white",
            "gridwidth": 2,
            "linecolor": "white",
            "showbackground": true,
            "ticks": "",
            "zerolinecolor": "white"
           }
          },
          "shapedefaults": {
           "line": {
            "color": "#2a3f5f"
           }
          },
          "ternary": {
           "aaxis": {
            "gridcolor": "white",
            "linecolor": "white",
            "ticks": ""
           },
           "baxis": {
            "gridcolor": "white",
            "linecolor": "white",
            "ticks": ""
           },
           "bgcolor": "#E5ECF6",
           "caxis": {
            "gridcolor": "white",
            "linecolor": "white",
            "ticks": ""
           }
          },
          "title": {
           "x": 0.05
          },
          "xaxis": {
           "automargin": true,
           "gridcolor": "white",
           "linecolor": "white",
           "ticks": "",
           "title": {
            "standoff": 15
           },
           "zerolinecolor": "white",
           "zerolinewidth": 2
          },
          "yaxis": {
           "automargin": true,
           "gridcolor": "white",
           "linecolor": "white",
           "ticks": "",
           "title": {
            "standoff": 15
           },
           "zerolinecolor": "white",
           "zerolinewidth": 2
          }
         }
        },
        "title": {
         "text": "Proportion of apps for each type of content rating"
        }
       }
      },
      "text/html": [
       "<div>                            <div id=\"77d20417-a5d0-4a06-b03b-3795263bdf96\" class=\"plotly-graph-div\" style=\"height:525px; width:100%;\"></div>            <script type=\"text/javascript\">                require([\"plotly\"], function(Plotly) {                    window.PLOTLYENV=window.PLOTLYENV || {};                                    if (document.getElementById(\"77d20417-a5d0-4a06-b03b-3795263bdf96\")) {                    Plotly.newPlot(                        \"77d20417-a5d0-4a06-b03b-3795263bdf96\",                        [{\"hoverinfo\": \"label+value\", \"labels\": [\"Unrated\", \"Adults only 18+\", \"Everyone 10+\", \"Mature 17+\", \"Teen\", \"Everyone\"], \"type\": \"pie\", \"values\": [1, 2, 259, 304, 779, 5676]}],                        {\"template\": {\"data\": {\"bar\": [{\"error_x\": {\"color\": \"#2a3f5f\"}, \"error_y\": {\"color\": \"#2a3f5f\"}, \"marker\": {\"line\": {\"color\": \"#E5ECF6\", \"width\": 0.5}}, \"type\": \"bar\"}], \"barpolar\": [{\"marker\": {\"line\": {\"color\": \"#E5ECF6\", \"width\": 0.5}}, \"type\": \"barpolar\"}], \"carpet\": [{\"aaxis\": {\"endlinecolor\": \"#2a3f5f\", \"gridcolor\": \"white\", \"linecolor\": \"white\", \"minorgridcolor\": \"white\", \"startlinecolor\": \"#2a3f5f\"}, \"baxis\": {\"endlinecolor\": \"#2a3f5f\", \"gridcolor\": \"white\", \"linecolor\": \"white\", \"minorgridcolor\": \"white\", \"startlinecolor\": \"#2a3f5f\"}, \"type\": \"carpet\"}], \"choropleth\": [{\"colorbar\": {\"outlinewidth\": 0, \"ticks\": \"\"}, \"type\": \"choropleth\"}], \"contour\": [{\"colorbar\": {\"outlinewidth\": 0, \"ticks\": \"\"}, \"colorscale\": [[0.0, \"#0d0887\"], [0.1111111111111111, \"#46039f\"], [0.2222222222222222, \"#7201a8\"], [0.3333333333333333, \"#9c179e\"], [0.4444444444444444, \"#bd3786\"], [0.5555555555555556, \"#d8576b\"], [0.6666666666666666, \"#ed7953\"], [0.7777777777777778, \"#fb9f3a\"], [0.8888888888888888, \"#fdca26\"], [1.0, \"#f0f921\"]], \"type\": \"contour\"}], \"contourcarpet\": [{\"colorbar\": {\"outlinewidth\": 0, \"ticks\": \"\"}, \"type\": \"contourcarpet\"}], \"heatmap\": [{\"colorbar\": {\"outlinewidth\": 0, \"ticks\": \"\"}, \"colorscale\": [[0.0, \"#0d0887\"], [0.1111111111111111, \"#46039f\"], [0.2222222222222222, \"#7201a8\"], [0.3333333333333333, \"#9c179e\"], [0.4444444444444444, \"#bd3786\"], [0.5555555555555556, \"#d8576b\"], [0.6666666666666666, \"#ed7953\"], [0.7777777777777778, \"#fb9f3a\"], [0.8888888888888888, \"#fdca26\"], [1.0, \"#f0f921\"]], \"type\": \"heatmap\"}], \"heatmapgl\": [{\"colorbar\": {\"outlinewidth\": 0, \"ticks\": \"\"}, \"colorscale\": [[0.0, \"#0d0887\"], [0.1111111111111111, \"#46039f\"], [0.2222222222222222, \"#7201a8\"], [0.3333333333333333, \"#9c179e\"], [0.4444444444444444, \"#bd3786\"], [0.5555555555555556, \"#d8576b\"], [0.6666666666666666, \"#ed7953\"], [0.7777777777777778, \"#fb9f3a\"], [0.8888888888888888, \"#fdca26\"], [1.0, \"#f0f921\"]], \"type\": \"heatmapgl\"}], \"histogram\": [{\"marker\": {\"colorbar\": {\"outlinewidth\": 0, \"ticks\": \"\"}}, \"type\": \"histogram\"}], \"histogram2d\": [{\"colorbar\": {\"outlinewidth\": 0, \"ticks\": \"\"}, \"colorscale\": [[0.0, \"#0d0887\"], [0.1111111111111111, \"#46039f\"], [0.2222222222222222, \"#7201a8\"], [0.3333333333333333, \"#9c179e\"], [0.4444444444444444, \"#bd3786\"], [0.5555555555555556, \"#d8576b\"], [0.6666666666666666, \"#ed7953\"], [0.7777777777777778, \"#fb9f3a\"], [0.8888888888888888, \"#fdca26\"], [1.0, \"#f0f921\"]], \"type\": \"histogram2d\"}], \"histogram2dcontour\": [{\"colorbar\": {\"outlinewidth\": 0, \"ticks\": \"\"}, \"colorscale\": [[0.0, \"#0d0887\"], [0.1111111111111111, \"#46039f\"], [0.2222222222222222, \"#7201a8\"], [0.3333333333333333, \"#9c179e\"], [0.4444444444444444, \"#bd3786\"], [0.5555555555555556, \"#d8576b\"], [0.6666666666666666, \"#ed7953\"], [0.7777777777777778, \"#fb9f3a\"], [0.8888888888888888, \"#fdca26\"], [1.0, \"#f0f921\"]], \"type\": \"histogram2dcontour\"}], \"mesh3d\": [{\"colorbar\": {\"outlinewidth\": 0, \"ticks\": \"\"}, \"type\": \"mesh3d\"}], \"parcoords\": [{\"line\": {\"colorbar\": {\"outlinewidth\": 0, \"ticks\": \"\"}}, \"type\": \"parcoords\"}], \"pie\": [{\"automargin\": true, \"type\": \"pie\"}], \"scatter\": [{\"marker\": {\"colorbar\": {\"outlinewidth\": 0, \"ticks\": \"\"}}, \"type\": \"scatter\"}], \"scatter3d\": [{\"line\": {\"colorbar\": {\"outlinewidth\": 0, \"ticks\": \"\"}}, \"marker\": {\"colorbar\": {\"outlinewidth\": 0, \"ticks\": \"\"}}, \"type\": \"scatter3d\"}], \"scattercarpet\": [{\"marker\": {\"colorbar\": {\"outlinewidth\": 0, \"ticks\": \"\"}}, \"type\": \"scattercarpet\"}], \"scattergeo\": [{\"marker\": {\"colorbar\": {\"outlinewidth\": 0, \"ticks\": \"\"}}, \"type\": \"scattergeo\"}], \"scattergl\": [{\"marker\": {\"colorbar\": {\"outlinewidth\": 0, \"ticks\": \"\"}}, \"type\": \"scattergl\"}], \"scattermapbox\": [{\"marker\": {\"colorbar\": {\"outlinewidth\": 0, \"ticks\": \"\"}}, \"type\": \"scattermapbox\"}], \"scatterpolar\": [{\"marker\": {\"colorbar\": {\"outlinewidth\": 0, \"ticks\": \"\"}}, \"type\": \"scatterpolar\"}], \"scatterpolargl\": [{\"marker\": {\"colorbar\": {\"outlinewidth\": 0, \"ticks\": \"\"}}, \"type\": \"scatterpolargl\"}], \"scatterternary\": [{\"marker\": {\"colorbar\": {\"outlinewidth\": 0, \"ticks\": \"\"}}, \"type\": \"scatterternary\"}], \"surface\": [{\"colorbar\": {\"outlinewidth\": 0, \"ticks\": \"\"}, \"colorscale\": [[0.0, \"#0d0887\"], [0.1111111111111111, \"#46039f\"], [0.2222222222222222, \"#7201a8\"], [0.3333333333333333, \"#9c179e\"], [0.4444444444444444, \"#bd3786\"], [0.5555555555555556, \"#d8576b\"], [0.6666666666666666, \"#ed7953\"], [0.7777777777777778, \"#fb9f3a\"], [0.8888888888888888, \"#fdca26\"], [1.0, \"#f0f921\"]], \"type\": \"surface\"}], \"table\": [{\"cells\": {\"fill\": {\"color\": \"#EBF0F8\"}, \"line\": {\"color\": \"white\"}}, \"header\": {\"fill\": {\"color\": \"#C8D4E3\"}, \"line\": {\"color\": \"white\"}}, \"type\": \"table\"}]}, \"layout\": {\"annotationdefaults\": {\"arrowcolor\": \"#2a3f5f\", \"arrowhead\": 0, \"arrowwidth\": 1}, \"coloraxis\": {\"colorbar\": {\"outlinewidth\": 0, \"ticks\": \"\"}}, \"colorscale\": {\"diverging\": [[0, \"#8e0152\"], [0.1, \"#c51b7d\"], [0.2, \"#de77ae\"], [0.3, \"#f1b6da\"], [0.4, \"#fde0ef\"], [0.5, \"#f7f7f7\"], [0.6, \"#e6f5d0\"], [0.7, \"#b8e186\"], [0.8, \"#7fbc41\"], [0.9, \"#4d9221\"], [1, \"#276419\"]], \"sequential\": [[0.0, \"#0d0887\"], [0.1111111111111111, \"#46039f\"], [0.2222222222222222, \"#7201a8\"], [0.3333333333333333, \"#9c179e\"], [0.4444444444444444, \"#bd3786\"], [0.5555555555555556, \"#d8576b\"], [0.6666666666666666, \"#ed7953\"], [0.7777777777777778, \"#fb9f3a\"], [0.8888888888888888, \"#fdca26\"], [1.0, \"#f0f921\"]], \"sequentialminus\": [[0.0, \"#0d0887\"], [0.1111111111111111, \"#46039f\"], [0.2222222222222222, \"#7201a8\"], [0.3333333333333333, \"#9c179e\"], [0.4444444444444444, \"#bd3786\"], [0.5555555555555556, \"#d8576b\"], [0.6666666666666666, \"#ed7953\"], [0.7777777777777778, \"#fb9f3a\"], [0.8888888888888888, \"#fdca26\"], [1.0, \"#f0f921\"]]}, \"colorway\": [\"#636efa\", \"#EF553B\", \"#00cc96\", \"#ab63fa\", \"#FFA15A\", \"#19d3f3\", \"#FF6692\", \"#B6E880\", \"#FF97FF\", \"#FECB52\"], \"font\": {\"color\": \"#2a3f5f\"}, \"geo\": {\"bgcolor\": \"white\", \"lakecolor\": \"white\", \"landcolor\": \"#E5ECF6\", \"showlakes\": true, \"showland\": true, \"subunitcolor\": \"white\"}, \"hoverlabel\": {\"align\": \"left\"}, \"hovermode\": \"closest\", \"mapbox\": {\"style\": \"light\"}, \"paper_bgcolor\": \"white\", \"plot_bgcolor\": \"#E5ECF6\", \"polar\": {\"angularaxis\": {\"gridcolor\": \"white\", \"linecolor\": \"white\", \"ticks\": \"\"}, \"bgcolor\": \"#E5ECF6\", \"radialaxis\": {\"gridcolor\": \"white\", \"linecolor\": \"white\", \"ticks\": \"\"}}, \"scene\": {\"xaxis\": {\"backgroundcolor\": \"#E5ECF6\", \"gridcolor\": \"white\", \"gridwidth\": 2, \"linecolor\": \"white\", \"showbackground\": true, \"ticks\": \"\", \"zerolinecolor\": \"white\"}, \"yaxis\": {\"backgroundcolor\": \"#E5ECF6\", \"gridcolor\": \"white\", \"gridwidth\": 2, \"linecolor\": \"white\", \"showbackground\": true, \"ticks\": \"\", \"zerolinecolor\": \"white\"}, \"zaxis\": {\"backgroundcolor\": \"#E5ECF6\", \"gridcolor\": \"white\", \"gridwidth\": 2, \"linecolor\": \"white\", \"showbackground\": true, \"ticks\": \"\", \"zerolinecolor\": \"white\"}}, \"shapedefaults\": {\"line\": {\"color\": \"#2a3f5f\"}}, \"ternary\": {\"aaxis\": {\"gridcolor\": \"white\", \"linecolor\": \"white\", \"ticks\": \"\"}, \"baxis\": {\"gridcolor\": \"white\", \"linecolor\": \"white\", \"ticks\": \"\"}, \"bgcolor\": \"#E5ECF6\", \"caxis\": {\"gridcolor\": \"white\", \"linecolor\": \"white\", \"ticks\": \"\"}}, \"title\": {\"x\": 0.05}, \"xaxis\": {\"automargin\": true, \"gridcolor\": \"white\", \"linecolor\": \"white\", \"ticks\": \"\", \"title\": {\"standoff\": 15}, \"zerolinecolor\": \"white\", \"zerolinewidth\": 2}, \"yaxis\": {\"automargin\": true, \"gridcolor\": \"white\", \"linecolor\": \"white\", \"ticks\": \"\", \"title\": {\"standoff\": 15}, \"zerolinecolor\": \"white\", \"zerolinewidth\": 2}}}, \"title\": {\"text\": \"Proportion of apps for each type of content rating\"}},                        {\"responsive\": true}                    ).then(function(){\n",
       "                            \n",
       "var gd = document.getElementById('77d20417-a5d0-4a06-b03b-3795263bdf96');\n",
       "var x = new MutationObserver(function (mutations, observer) {{\n",
       "        var display = window.getComputedStyle(gd).display;\n",
       "        if (!display || display === 'none') {{\n",
       "            console.log([gd, 'removed!']);\n",
       "            Plotly.purge(gd);\n",
       "            observer.disconnect();\n",
       "        }}\n",
       "}});\n",
       "\n",
       "// Listen for the removal of the full notebook cells\n",
       "var notebookContainer = gd.closest('#notebook-container');\n",
       "if (notebookContainer) {{\n",
       "    x.observe(notebookContainer, {childList: true});\n",
       "}}\n",
       "\n",
       "// Listen for the clearing of the current output cell\n",
       "var outputEl = gd.closest('.output');\n",
       "if (outputEl) {{\n",
       "    x.observe(outputEl, {childList: true});\n",
       "}}\n",
       "\n",
       "                        })                };                });            </script>        </div>"
      ]
     },
     "metadata": {},
     "output_type": "display_data"
    }
   ],
   "source": [
    "#Number of Apps per content rating\n",
    "number_of_apps_in_content = dfm['Content Rating'].value_counts().sort_values(ascending=True)\n",
    "# number_of_apps_in_content\n",
    "\n",
    "data2 = [go.Pie(\n",
    "        labels = number_of_apps_in_content.index,\n",
    "        values = number_of_apps_in_content.values,\n",
    "        hoverinfo = 'label+value')]\n",
    "mylayout = go.Layout(\n",
    "    title=\"Proportion of apps for each type of content rating\"\n",
    ")\n",
    "\n",
    "fig = go.Figure(data=data2, layout=mylayout)\n",
    "\n",
    "plotly.offline.iplot(fig,filename='active_content')"
   ]
  },
  {
   "cell_type": "markdown",
   "metadata": {},
   "source": [
    "### Distribution of Response Rating "
   ]
  },
  {
   "cell_type": "code",
   "execution_count": 30,
   "metadata": {},
   "outputs": [
    {
     "data": {
      "text/plain": [
       "<matplotlib.legend.Legend at 0x7f1266978c10>"
      ]
     },
     "execution_count": 30,
     "metadata": {},
     "output_type": "execute_result"
    },
    {
     "data": {
      "image/png": "[encoded data removed]",
      "text/plain": [
       "<Figure size 720x576 with 1 Axes>"
      ]
     },
     "metadata": {
      "needs_background": "light"
     },
     "output_type": "display_data"
    }
   ],
   "source": [
    "# Distribution of ratings\n",
    "mean = round(dfm['Rating'].mean(), 2)\n",
    "median = round(dfm['Rating'].median(), 2)\n",
    "rcParams['figure.figsize'] = 10,8\n",
    "g = sns.kdeplot(dfm.Rating, color=\"c\", shade = True)\n",
    "g.axvline(mean, color='r', linestyle='--')\n",
    "g.axvline(median, color='black', linestyle='-')\n",
    "g.set_xlabel(\"Rating\")\n",
    "g.set_ylabel(\"Frequency\")\n",
    "plt.title('Distribution of Rating',size = 20)\n",
    "plt.legend({'Ratings': dfm.Rating, 'Mean':mean,'Median':median})"
   ]
  },
  {
   "cell_type": "markdown",
   "metadata": {},
   "source": [
    "We see here that the spread of ratings is inconsistent from 1-5, instead ratings are highly centred between ratings 3.5 and 5."
   ]
  },
  {
   "cell_type": "markdown",
   "metadata": {},
   "source": [
    "## 3.3 Rating Comparing Analysis\n",
    "\n",
    "### Rating vs Reviews "
   ]
  },
  {
   "cell_type": "code",
   "execution_count": 31,
   "metadata": {
    "scrolled": false
   },
   "outputs": [
    {
     "data": {
      "text/plain": [
       "Text(0, 0.5, 'Rating')"
      ]
     },
     "execution_count": 31,
     "metadata": {},
     "output_type": "execute_result"
    },
    {
     "data": {
      "image/png": "[encoded data removed]",
      "text/plain": [
       "<Figure size 720x720 with 1 Axes>"
      ]
     },
     "metadata": {
      "needs_background": "light"
     },
     "output_type": "display_data"
    }
   ],
   "source": [
    "plt.figure(figsize=(10,10))\n",
    "plt.scatter(dfm['Reviews'],dfm['Rating'],color = 'c', linestyle = '-')\n",
    "plt.title('Do No. of reviews affects rating?', fontsize=15)\n",
    "plt.xlabel('No. of reviews\\n Apps having larger number of reviews tend to have higher ratings')\n",
    "plt.ylabel('Rating')"
   ]
  },
  {
   "cell_type": "markdown",
   "metadata": {},
   "source": [
    "### Rating vs Installs "
   ]
  },
  {
   "cell_type": "code",
   "execution_count": 32,
   "metadata": {
    "scrolled": true
   },
   "outputs": [
    {
     "data": {
      "text/plain": [
       "Text(0, 0.5, 'Rating')"
      ]
     },
     "execution_count": 32,
     "metadata": {},
     "output_type": "execute_result"
    },
    {
     "data": {
      "image/png": "[encoded data removed]",
      "text/plain": [
       "<Figure size 720x720 with 1 Axes>"
      ]
     },
     "metadata": {
      "needs_background": "light"
     },
     "output_type": "display_data"
    }
   ],
   "source": [
    "plt.figure(figsize=(10,10))\n",
    "plt.scatter(dfm['Installs'],dfm['Rating'],color = 'c', linestyle = '-')\n",
    "plt.title('Do No. of installs affects rating?', fontsize=15)\n",
    "plt.xlabel('No. of installs \\n Apps having larger number of installs tend to have higher ratings')\n",
    "plt.ylabel('Rating')"
   ]
  },
  {
   "cell_type": "markdown",
   "metadata": {},
   "source": [
    "### Rating vs Size "
   ]
  },
  {
   "cell_type": "code",
   "execution_count": 33,
   "metadata": {
    "scrolled": false
   },
   "outputs": [
    {
     "data": {
      "text/plain": [
       "Text(0, 0.5, 'Rating')"
      ]
     },
     "execution_count": 33,
     "metadata": {},
     "output_type": "execute_result"
    },
    {
     "data": {
      "image/png": "[encoded data removed]",
      "text/plain": [
       "<Figure size 720x720 with 1 Axes>"
      ]
     },
     "metadata": {
      "needs_background": "light"
     },
     "output_type": "display_data"
    }
   ],
   "source": [
    "plt.figure(figsize=(10,10))\n",
    "plt.scatter(dfm['Size'],dfm['Rating'],color = 'c', linestyle = '-')\n",
    "plt.title('Do app size affects rating?', fontsize=15)\n",
    "plt.xlabel('Size\\n Lighter apps tend to have higher ratings than bulky ones')\n",
    "plt.ylabel('Rating')"
   ]
  },
  {
   "cell_type": "markdown",
   "metadata": {},
   "source": [
    "### Rating vs Last Updated"
   ]
  },
  {
   "cell_type": "code",
   "execution_count": 34,
   "metadata": {},
   "outputs": [
    {
     "data": {
      "text/plain": [
       "Text(0, 0.5, 'Rating')"
      ]
     },
     "execution_count": 34,
     "metadata": {},
     "output_type": "execute_result"
    },
    {
     "data": {
      "image/png": "[encoded data removed]",
      "text/plain": [
       "<Figure size 720x720 with 1 Axes>"
      ]
     },
     "metadata": {
      "needs_background": "light"
     },
     "output_type": "display_data"
    }
   ],
   "source": [
    "plt.figure(figsize=(10,10))\n",
    "plt.scatter(dfm['Last Updated'],dfm['Rating'],color = 'c', linestyle = '-')\n",
    "plt.title('Do the last updated time affects rating?', fontsize=15)\n",
    "plt.xlabel('Last Updated\\nRecently updated apps are generally clustered around higher ratings')\n",
    "plt.ylabel('Rating')"
   ]
  },
  {
   "cell_type": "code",
   "execution_count": null,
   "metadata": {},
   "outputs": [],
   "source": []
  }
 ],
 "metadata": {
  "kernelspec": {
   "display_name": "Python 3",
   "language": "python",
   "name": "python3"
  },
  "language_info": {
   "codemirror_mode": {
    "name": "ipython",
    "version": 3
   },
   "file_extension": ".py",
   "mimetype": "text/x-python",
   "name": "python",
   "nbconvert_exporter": "python",
   "pygments_lexer": "ipython3",
   "version": "3.7.3"
  }
 },
 "nbformat": 4,
 "nbformat_minor": 2
}
